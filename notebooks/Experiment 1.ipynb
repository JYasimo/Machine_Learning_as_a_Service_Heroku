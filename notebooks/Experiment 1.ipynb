{
 "cells": [
  {
   "cell_type": "markdown",
   "id": "dcc071d1-bb3c-4993-9342-072b91f5fe07",
   "metadata": {},
   "source": [
    "# Data Collection"
   ]
  },
  {
   "cell_type": "code",
   "execution_count": 1,
   "id": "01b30450-7b0d-4442-a7bd-5a34a9c2899c",
   "metadata": {
    "tags": []
   },
   "outputs": [],
   "source": [
    "#Read data\n",
    "import pandas as pd\n",
    "merged_df = pd.read_csv('../data/processed/merged_df.csv',low_memory=False)\n"
   ]
  },
  {
   "cell_type": "markdown",
   "id": "474ce69e-a638-4893-b8dd-5039eb786c5c",
   "metadata": {},
   "source": [
    "# Load and Explore Dataset"
   ]
  },
  {
   "cell_type": "code",
   "execution_count": 2,
   "id": "64d7c85a-b3fc-4730-912a-59dc96677e71",
   "metadata": {
    "tags": []
   },
   "outputs": [],
   "source": [
    "#rename df\n",
    "train_df = merged_df"
   ]
  },
  {
   "cell_type": "code",
   "execution_count": 3,
   "id": "f7016d0a-d316-41ed-bdd3-e6299cf2a9cb",
   "metadata": {
    "tags": []
   },
   "outputs": [
    {
     "data": {
      "text/html": [
       "<div>\n",
       "<style scoped>\n",
       "    .dataframe tbody tr th:only-of-type {\n",
       "        vertical-align: middle;\n",
       "    }\n",
       "\n",
       "    .dataframe tbody tr th {\n",
       "        vertical-align: top;\n",
       "    }\n",
       "\n",
       "    .dataframe thead th {\n",
       "        text-align: right;\n",
       "    }\n",
       "</style>\n",
       "<table border=\"1\" class=\"dataframe\">\n",
       "  <thead>\n",
       "    <tr style=\"text-align: right;\">\n",
       "      <th></th>\n",
       "      <th>id</th>\n",
       "      <th>item_id</th>\n",
       "      <th>dept_id</th>\n",
       "      <th>cat_id</th>\n",
       "      <th>store_id</th>\n",
       "      <th>state_id</th>\n",
       "      <th>day</th>\n",
       "      <th>count</th>\n",
       "      <th>date</th>\n",
       "      <th>wm_yr_wk</th>\n",
       "      <th>event_name</th>\n",
       "      <th>event_type</th>\n",
       "      <th>sell_price</th>\n",
       "      <th>revenue</th>\n",
       "      <th>year</th>\n",
       "      <th>month</th>\n",
       "    </tr>\n",
       "  </thead>\n",
       "  <tbody>\n",
       "    <tr>\n",
       "      <th>0</th>\n",
       "      <td>HOBBIES_1_001_CA_1_evaluation</td>\n",
       "      <td>HOBBIES_1_001</td>\n",
       "      <td>HOBBIES_1</td>\n",
       "      <td>HOBBIES</td>\n",
       "      <td>CA_1</td>\n",
       "      <td>CA</td>\n",
       "      <td>29</td>\n",
       "      <td>0</td>\n",
       "      <td>2011-01-29</td>\n",
       "      <td>11101</td>\n",
       "      <td>0</td>\n",
       "      <td>0</td>\n",
       "      <td>NaN</td>\n",
       "      <td>NaN</td>\n",
       "      <td>2011</td>\n",
       "      <td>1</td>\n",
       "    </tr>\n",
       "    <tr>\n",
       "      <th>1</th>\n",
       "      <td>HOBBIES_1_002_CA_1_evaluation</td>\n",
       "      <td>HOBBIES_1_002</td>\n",
       "      <td>HOBBIES_1</td>\n",
       "      <td>HOBBIES</td>\n",
       "      <td>CA_1</td>\n",
       "      <td>CA</td>\n",
       "      <td>29</td>\n",
       "      <td>0</td>\n",
       "      <td>2011-01-29</td>\n",
       "      <td>11101</td>\n",
       "      <td>0</td>\n",
       "      <td>0</td>\n",
       "      <td>NaN</td>\n",
       "      <td>NaN</td>\n",
       "      <td>2011</td>\n",
       "      <td>1</td>\n",
       "    </tr>\n",
       "    <tr>\n",
       "      <th>2</th>\n",
       "      <td>HOBBIES_1_003_CA_1_evaluation</td>\n",
       "      <td>HOBBIES_1_003</td>\n",
       "      <td>HOBBIES_1</td>\n",
       "      <td>HOBBIES</td>\n",
       "      <td>CA_1</td>\n",
       "      <td>CA</td>\n",
       "      <td>29</td>\n",
       "      <td>0</td>\n",
       "      <td>2011-01-29</td>\n",
       "      <td>11101</td>\n",
       "      <td>0</td>\n",
       "      <td>0</td>\n",
       "      <td>NaN</td>\n",
       "      <td>NaN</td>\n",
       "      <td>2011</td>\n",
       "      <td>1</td>\n",
       "    </tr>\n",
       "    <tr>\n",
       "      <th>3</th>\n",
       "      <td>HOBBIES_1_004_CA_1_evaluation</td>\n",
       "      <td>HOBBIES_1_004</td>\n",
       "      <td>HOBBIES_1</td>\n",
       "      <td>HOBBIES</td>\n",
       "      <td>CA_1</td>\n",
       "      <td>CA</td>\n",
       "      <td>29</td>\n",
       "      <td>0</td>\n",
       "      <td>2011-01-29</td>\n",
       "      <td>11101</td>\n",
       "      <td>0</td>\n",
       "      <td>0</td>\n",
       "      <td>NaN</td>\n",
       "      <td>NaN</td>\n",
       "      <td>2011</td>\n",
       "      <td>1</td>\n",
       "    </tr>\n",
       "    <tr>\n",
       "      <th>4</th>\n",
       "      <td>HOBBIES_1_005_CA_1_evaluation</td>\n",
       "      <td>HOBBIES_1_005</td>\n",
       "      <td>HOBBIES_1</td>\n",
       "      <td>HOBBIES</td>\n",
       "      <td>CA_1</td>\n",
       "      <td>CA</td>\n",
       "      <td>29</td>\n",
       "      <td>0</td>\n",
       "      <td>2011-01-29</td>\n",
       "      <td>11101</td>\n",
       "      <td>0</td>\n",
       "      <td>0</td>\n",
       "      <td>NaN</td>\n",
       "      <td>NaN</td>\n",
       "      <td>2011</td>\n",
       "      <td>1</td>\n",
       "    </tr>\n",
       "  </tbody>\n",
       "</table>\n",
       "</div>"
      ],
      "text/plain": [
       "                              id        item_id    dept_id   cat_id store_id   \n",
       "0  HOBBIES_1_001_CA_1_evaluation  HOBBIES_1_001  HOBBIES_1  HOBBIES     CA_1  \\\n",
       "1  HOBBIES_1_002_CA_1_evaluation  HOBBIES_1_002  HOBBIES_1  HOBBIES     CA_1   \n",
       "2  HOBBIES_1_003_CA_1_evaluation  HOBBIES_1_003  HOBBIES_1  HOBBIES     CA_1   \n",
       "3  HOBBIES_1_004_CA_1_evaluation  HOBBIES_1_004  HOBBIES_1  HOBBIES     CA_1   \n",
       "4  HOBBIES_1_005_CA_1_evaluation  HOBBIES_1_005  HOBBIES_1  HOBBIES     CA_1   \n",
       "\n",
       "  state_id  day  count        date  wm_yr_wk event_name event_type   \n",
       "0       CA   29      0  2011-01-29     11101          0          0  \\\n",
       "1       CA   29      0  2011-01-29     11101          0          0   \n",
       "2       CA   29      0  2011-01-29     11101          0          0   \n",
       "3       CA   29      0  2011-01-29     11101          0          0   \n",
       "4       CA   29      0  2011-01-29     11101          0          0   \n",
       "\n",
       "   sell_price  revenue  year  month  \n",
       "0         NaN      NaN  2011      1  \n",
       "1         NaN      NaN  2011      1  \n",
       "2         NaN      NaN  2011      1  \n",
       "3         NaN      NaN  2011      1  \n",
       "4         NaN      NaN  2011      1  "
      ]
     },
     "execution_count": 3,
     "metadata": {},
     "output_type": "execute_result"
    }
   ],
   "source": [
    "#Display 5 first rows\n",
    "train_df.head()"
   ]
  },
  {
   "cell_type": "code",
   "execution_count": 4,
   "id": "337340fc-b7a6-4e10-8732-385f60dc368b",
   "metadata": {
    "tags": []
   },
   "outputs": [
    {
     "data": {
      "text/plain": [
       "(47107050, 16)"
      ]
     },
     "execution_count": 4,
     "metadata": {},
     "output_type": "execute_result"
    }
   ],
   "source": [
    "#Display Dimension\n",
    "train_df.shape"
   ]
  },
  {
   "cell_type": "code",
   "execution_count": 5,
   "id": "ee08eb02-6cfe-44d7-ae5b-09d975ad39e9",
   "metadata": {
    "tags": []
   },
   "outputs": [
    {
     "name": "stdout",
     "output_type": "stream",
     "text": [
      "<class 'pandas.core.frame.DataFrame'>\n",
      "RangeIndex: 47107050 entries, 0 to 47107049\n",
      "Data columns (total 16 columns):\n",
      " #   Column      Dtype  \n",
      "---  ------      -----  \n",
      " 0   id          object \n",
      " 1   item_id     object \n",
      " 2   dept_id     object \n",
      " 3   cat_id      object \n",
      " 4   store_id    object \n",
      " 5   state_id    object \n",
      " 6   day         int64  \n",
      " 7   count       int64  \n",
      " 8   date        object \n",
      " 9   wm_yr_wk    int64  \n",
      " 10  event_name  object \n",
      " 11  event_type  object \n",
      " 12  sell_price  float64\n",
      " 13  revenue     float64\n",
      " 14  year        int64  \n",
      " 15  month       int64  \n",
      "dtypes: float64(2), int64(5), object(9)\n",
      "memory usage: 5.6+ GB\n"
     ]
    }
   ],
   "source": [
    "#Display info\n",
    "train_df.info()"
   ]
  },
  {
   "cell_type": "code",
   "execution_count": 6,
   "id": "ff8c7a96-6e3c-4f4f-9d99-fd6d49d89e3a",
   "metadata": {
    "tags": []
   },
   "outputs": [
    {
     "data": {
      "text/html": [
       "<div>\n",
       "<style scoped>\n",
       "    .dataframe tbody tr th:only-of-type {\n",
       "        vertical-align: middle;\n",
       "    }\n",
       "\n",
       "    .dataframe tbody tr th {\n",
       "        vertical-align: top;\n",
       "    }\n",
       "\n",
       "    .dataframe thead th {\n",
       "        text-align: right;\n",
       "    }\n",
       "</style>\n",
       "<table border=\"1\" class=\"dataframe\">\n",
       "  <thead>\n",
       "    <tr style=\"text-align: right;\">\n",
       "      <th></th>\n",
       "      <th>day</th>\n",
       "      <th>count</th>\n",
       "      <th>wm_yr_wk</th>\n",
       "      <th>sell_price</th>\n",
       "      <th>revenue</th>\n",
       "      <th>year</th>\n",
       "      <th>month</th>\n",
       "    </tr>\n",
       "  </thead>\n",
       "  <tbody>\n",
       "    <tr>\n",
       "      <th>count</th>\n",
       "      <td>4.710705e+07</td>\n",
       "      <td>4.710705e+07</td>\n",
       "      <td>4.710705e+07</td>\n",
       "      <td>3.481517e+07</td>\n",
       "      <td>3.481517e+07</td>\n",
       "      <td>4.710705e+07</td>\n",
       "      <td>4.710705e+07</td>\n",
       "    </tr>\n",
       "    <tr>\n",
       "      <th>mean</th>\n",
       "      <td>1.566861e+01</td>\n",
       "      <td>1.087059e+00</td>\n",
       "      <td>1.128854e+04</td>\n",
       "      <td>4.383812e+00</td>\n",
       "      <td>4.102582e+00</td>\n",
       "      <td>2.012703e+03</td>\n",
       "      <td>6.325566e+00</td>\n",
       "    </tr>\n",
       "    <tr>\n",
       "      <th>std</th>\n",
       "      <td>8.794170e+00</td>\n",
       "      <td>3.934360e+00</td>\n",
       "      <td>1.207423e+02</td>\n",
       "      <td>3.358256e+00</td>\n",
       "      <td>1.046314e+01</td>\n",
       "      <td>1.241316e+00</td>\n",
       "      <td>3.459918e+00</td>\n",
       "    </tr>\n",
       "    <tr>\n",
       "      <th>min</th>\n",
       "      <td>1.000000e+00</td>\n",
       "      <td>0.000000e+00</td>\n",
       "      <td>1.110100e+04</td>\n",
       "      <td>1.000000e-02</td>\n",
       "      <td>0.000000e+00</td>\n",
       "      <td>2.011000e+03</td>\n",
       "      <td>1.000000e+00</td>\n",
       "    </tr>\n",
       "    <tr>\n",
       "      <th>25%</th>\n",
       "      <td>8.000000e+00</td>\n",
       "      <td>0.000000e+00</td>\n",
       "      <td>1.120400e+04</td>\n",
       "      <td>2.080000e+00</td>\n",
       "      <td>0.000000e+00</td>\n",
       "      <td>2.012000e+03</td>\n",
       "      <td>3.000000e+00</td>\n",
       "    </tr>\n",
       "    <tr>\n",
       "      <th>50%</th>\n",
       "      <td>1.600000e+01</td>\n",
       "      <td>0.000000e+00</td>\n",
       "      <td>1.130700e+04</td>\n",
       "      <td>3.440000e+00</td>\n",
       "      <td>0.000000e+00</td>\n",
       "      <td>2.013000e+03</td>\n",
       "      <td>6.000000e+00</td>\n",
       "    </tr>\n",
       "    <tr>\n",
       "      <th>75%</th>\n",
       "      <td>2.300000e+01</td>\n",
       "      <td>1.000000e+00</td>\n",
       "      <td>1.140900e+04</td>\n",
       "      <td>5.840000e+00</td>\n",
       "      <td>4.850000e+00</td>\n",
       "      <td>2.014000e+03</td>\n",
       "      <td>9.000000e+00</td>\n",
       "    </tr>\n",
       "    <tr>\n",
       "      <th>max</th>\n",
       "      <td>3.100000e+01</td>\n",
       "      <td>7.630000e+02</td>\n",
       "      <td>1.151200e+04</td>\n",
       "      <td>1.073200e+02</td>\n",
       "      <td>2.164320e+03</td>\n",
       "      <td>2.015000e+03</td>\n",
       "      <td>1.200000e+01</td>\n",
       "    </tr>\n",
       "  </tbody>\n",
       "</table>\n",
       "</div>"
      ],
      "text/plain": [
       "                day         count      wm_yr_wk    sell_price       revenue   \n",
       "count  4.710705e+07  4.710705e+07  4.710705e+07  3.481517e+07  3.481517e+07  \\\n",
       "mean   1.566861e+01  1.087059e+00  1.128854e+04  4.383812e+00  4.102582e+00   \n",
       "std    8.794170e+00  3.934360e+00  1.207423e+02  3.358256e+00  1.046314e+01   \n",
       "min    1.000000e+00  0.000000e+00  1.110100e+04  1.000000e-02  0.000000e+00   \n",
       "25%    8.000000e+00  0.000000e+00  1.120400e+04  2.080000e+00  0.000000e+00   \n",
       "50%    1.600000e+01  0.000000e+00  1.130700e+04  3.440000e+00  0.000000e+00   \n",
       "75%    2.300000e+01  1.000000e+00  1.140900e+04  5.840000e+00  4.850000e+00   \n",
       "max    3.100000e+01  7.630000e+02  1.151200e+04  1.073200e+02  2.164320e+03   \n",
       "\n",
       "               year         month  \n",
       "count  4.710705e+07  4.710705e+07  \n",
       "mean   2.012703e+03  6.325566e+00  \n",
       "std    1.241316e+00  3.459918e+00  \n",
       "min    2.011000e+03  1.000000e+00  \n",
       "25%    2.012000e+03  3.000000e+00  \n",
       "50%    2.013000e+03  6.000000e+00  \n",
       "75%    2.014000e+03  9.000000e+00  \n",
       "max    2.015000e+03  1.200000e+01  "
      ]
     },
     "execution_count": 6,
     "metadata": {},
     "output_type": "execute_result"
    }
   ],
   "source": [
    "#Display the descriptive statistics of train_df\n",
    "train_df.describe()"
   ]
  },
  {
   "cell_type": "code",
   "execution_count": 7,
   "id": "9d82e694-821f-4b35-b74a-63a5982b2664",
   "metadata": {
    "tags": []
   },
   "outputs": [
    {
     "name": "stdout",
     "output_type": "stream",
     "text": [
      "[2011 2012 2013 2014 2015]\n"
     ]
    }
   ],
   "source": [
    "# Assuming you have a DataFrame called df\n",
    "unique_year_values = train_df['year'].unique()\n",
    "\n",
    "# This will give you an array of unique values in the 'yar' column\n",
    "print(unique_year_values)"
   ]
  },
  {
   "cell_type": "markdown",
   "id": "27f423d1-1873-49c6-8924-a42d9ade1671",
   "metadata": {},
   "source": [
    "# Prepare Data"
   ]
  },
  {
   "cell_type": "code",
   "execution_count": 8,
   "id": "0f59f85a-89a1-42d8-bfcc-35fe0bcd71bc",
   "metadata": {
    "tags": []
   },
   "outputs": [],
   "source": [
    "import pandas as pd\n",
    "\n",
    "# filter data\n",
    "train_df = train_df[(train_df['year'] == 2014) | (train_df['year'] == 2015)]\n",
    "\n"
   ]
  },
  {
   "cell_type": "markdown",
   "id": "1f210506-651c-43f7-8429-eaf0b56686fb",
   "metadata": {},
   "source": [
    "Since the dataset was huge and we ran out of memory we only keep last two years."
   ]
  },
  {
   "cell_type": "code",
   "execution_count": 9,
   "id": "ea7da346-edad-4514-8198-d3b9dc45bd14",
   "metadata": {
    "tags": []
   },
   "outputs": [],
   "source": [
    "#create a copy of dataframe\n",
    "train_cleaned=train_df.copy()"
   ]
  },
  {
   "cell_type": "code",
   "execution_count": 10,
   "id": "96b99c62-e623-4d61-8ad9-4831b3bcca44",
   "metadata": {
    "tags": []
   },
   "outputs": [
    {
     "data": {
      "text/plain": [
       "(14482750, 16)"
      ]
     },
     "execution_count": 10,
     "metadata": {},
     "output_type": "execute_result"
    }
   ],
   "source": [
    "#shape\n",
    "train_cleaned.shape"
   ]
  },
  {
   "cell_type": "markdown",
   "id": "1f79696c-c17f-454b-866a-23f6d750cfc2",
   "metadata": {},
   "source": [
    "ohe"
   ]
  },
  {
   "cell_type": "code",
   "execution_count": 11,
   "id": "0e0e5ee9-b265-4485-b85c-1a8de0833082",
   "metadata": {
    "tags": []
   },
   "outputs": [],
   "source": [
    "import pandas as pd\n",
    "\n",
    "def ohe(df, categorical_columns):\n",
    "    \"\"\"\n",
    "    Perform one-hot encoding on the specified categorical columns in a DataFrame.\n",
    "    \n",
    "    Parameters:\n",
    "        df (pandas.DataFrame): The DataFrame to be encoded.\n",
    "        categorical_columns (list): A list of column names to one-hot encode.\n",
    "        \n",
    "    Returns:\n",
    "        pandas.DataFrame: The DataFrame with one-hot encoded columns.\n",
    "    \"\"\"\n",
    "    for col in categorical_columns:\n",
    "        df = pd.get_dummies(df, columns=[col], prefix=col, prefix_sep='_')\n",
    "    \n",
    "    # Convert only the one-hot encoded columns to integer (0 and 1)\n",
    "    ohe_columns = [col for col in df.columns if any(col.startswith(prefix) for prefix in categorical_columns)]\n",
    "    df[ohe_columns] = df[ohe_columns].astype(int)\n",
    "    \n",
    "    return df"
   ]
  },
  {
   "cell_type": "code",
   "execution_count": 12,
   "id": "c29ba89e-9ed5-46e2-9b4c-45e9fb4452d2",
   "metadata": {
    "tags": []
   },
   "outputs": [],
   "source": [
    "#categorical columns\n",
    "cat_cols=['event_name', 'event_type']\n",
    "\n",
    "train_cleaned=ohe(train_cleaned , cat_cols)"
   ]
  },
  {
   "cell_type": "code",
   "execution_count": 13,
   "id": "b6f309aa-053e-456f-8cbe-12109b55e638",
   "metadata": {
    "tags": []
   },
   "outputs": [],
   "source": [
    "# fill missing values with zero\n",
    "train_cleaned.fillna(0, inplace=True)"
   ]
  },
  {
   "cell_type": "code",
   "execution_count": 14,
   "id": "a8198503-d456-434b-9b3e-a47d4ee56528",
   "metadata": {
    "tags": []
   },
   "outputs": [
    {
     "name": "stdout",
     "output_type": "stream",
     "text": [
      "<class 'pandas.core.frame.DataFrame'>\n",
      "Index: 14482750 entries, 32624300 to 47107049\n",
      "Data columns (total 50 columns):\n",
      " #   Column                          Dtype  \n",
      "---  ------                          -----  \n",
      " 0   id                              object \n",
      " 1   item_id                         object \n",
      " 2   dept_id                         object \n",
      " 3   cat_id                          object \n",
      " 4   store_id                        object \n",
      " 5   state_id                        object \n",
      " 6   day                             int64  \n",
      " 7   count                           int64  \n",
      " 8   date                            object \n",
      " 9   wm_yr_wk                        int64  \n",
      " 10  sell_price                      float64\n",
      " 11  revenue                         float64\n",
      " 12  year                            int64  \n",
      " 13  month                           int64  \n",
      " 14  event_name_0                    int64  \n",
      " 15  event_name_Chanukah End         int64  \n",
      " 16  event_name_Christmas            int64  \n",
      " 17  event_name_Cinco De Mayo        int64  \n",
      " 18  event_name_ColumbusDay          int64  \n",
      " 19  event_name_Easter               int64  \n",
      " 20  event_name_Eid al-Fitr          int64  \n",
      " 21  event_name_EidAlAdha            int64  \n",
      " 22  event_name_Father's day         int64  \n",
      " 23  event_name_Halloween            int64  \n",
      " 24  event_name_IndependenceDay      int64  \n",
      " 25  event_name_LaborDay             int64  \n",
      " 26  event_name_LentStart            int64  \n",
      " 27  event_name_LentWeek2            int64  \n",
      " 28  event_name_MartinLutherKingDay  int64  \n",
      " 29  event_name_MemorialDay          int64  \n",
      " 30  event_name_Mother's day         int64  \n",
      " 31  event_name_NBAFinalsEnd         int64  \n",
      " 32  event_name_NBAFinalsStart       int64  \n",
      " 33  event_name_NewYear              int64  \n",
      " 34  event_name_OrthodoxChristmas    int64  \n",
      " 35  event_name_OrthodoxEaster       int64  \n",
      " 36  event_name_Pesach End           int64  \n",
      " 37  event_name_PresidentsDay        int64  \n",
      " 38  event_name_Purim End            int64  \n",
      " 39  event_name_Ramadan starts       int64  \n",
      " 40  event_name_StPatricksDay        int64  \n",
      " 41  event_name_SuperBowl            int64  \n",
      " 42  event_name_Thanksgiving         int64  \n",
      " 43  event_name_ValentinesDay        int64  \n",
      " 44  event_name_VeteransDay          int64  \n",
      " 45  event_type_0                    int64  \n",
      " 46  event_type_Cultural             int64  \n",
      " 47  event_type_National             int64  \n",
      " 48  event_type_Religious            int64  \n",
      " 49  event_type_Sporting             int64  \n",
      "dtypes: float64(2), int64(41), object(7)\n",
      "memory usage: 5.5+ GB\n"
     ]
    }
   ],
   "source": [
    "train_cleaned.info()"
   ]
  },
  {
   "cell_type": "code",
   "execution_count": 15,
   "id": "6c72de2d-c194-4d92-ba81-52a5ebd4c270",
   "metadata": {
    "tags": []
   },
   "outputs": [],
   "source": [
    "# Categorical feature names - specify the names of your categorical columns\n",
    "categorical_features = ['item_id', 'dept_id', 'cat_id', 'store_id', 'state_id']\n",
    "# Convert categorical features to the 'category' data type\n",
    "for feature in categorical_features:\n",
    "    train_cleaned[feature] = train_cleaned[feature].astype('category')\n",
    "\n"
   ]
  },
  {
   "cell_type": "code",
   "execution_count": 16,
   "id": "7690c8fc-35af-4283-a483-3d7c9bc136b4",
   "metadata": {
    "tags": []
   },
   "outputs": [],
   "source": [
    "#Drop un needed columns\n",
    "train_cleaned.drop(columns=['id'], inplace=True)\n",
    "train_cleaned.drop(columns=['date'], inplace=True)\n",
    "train_cleaned.drop(columns=['wm_yr_wk'], inplace=True)"
   ]
  },
  {
   "cell_type": "markdown",
   "id": "71c52659-6f33-4a2c-be9a-188e6083859f",
   "metadata": {
    "tags": []
   },
   "source": [
    "# Split Dataset"
   ]
  },
  {
   "cell_type": "code",
   "execution_count": 17,
   "id": "df5f5e6f-8df7-4ecb-a3e2-a323a630a2dd",
   "metadata": {
    "tags": []
   },
   "outputs": [],
   "source": [
    "# indicating x and y columns \n",
    "y= train_cleaned[\"revenue\"]\n",
    "x= train_cleaned.drop([\"revenue\"],axis=1)"
   ]
  },
  {
   "cell_type": "code",
   "execution_count": 18,
   "id": "7e8266e2-3c9f-4835-a680-afb850b0e4fd",
   "metadata": {
    "tags": []
   },
   "outputs": [],
   "source": [
    "#split dataset\n",
    "from sklearn.model_selection import train_test_split\n",
    "#Split the dataset into 2 different sets: data (80%) and test (20%)\n",
    "x_data, x_test, y_data, y_test = train_test_split(x,y, test_size=0.2, random_state=42)\n",
    "\n",
    "#Split the data randomly into 2 different sets: training (80%) and validation (20%)\n",
    "x_train, x_val, y_train, y_val = train_test_split(x_data, y_data, test_size=0.2, random_state=42)"
   ]
  },
  {
   "cell_type": "markdown",
   "id": "7879cd66-af6f-437b-9ac1-1e36bb519580",
   "metadata": {},
   "source": [
    "# Train LGBM"
   ]
  },
  {
   "cell_type": "code",
   "execution_count": null,
   "id": "03c59f5a-fa33-41c6-8093-be38f166eeaa",
   "metadata": {
    "tags": []
   },
   "outputs": [
    {
     "name": "stdout",
     "output_type": "stream",
     "text": [
      "Fitting 5 folds for each of 3 candidates, totalling 15 fits\n"
     ]
    }
   ],
   "source": [
    "import lightgbm as lgb\n",
    "from sklearn.model_selection import GridSearchCV, KFold\n",
    "from sklearn.metrics import mean_squared_error\n",
    "\n",
    "# Initialize LightGBM regressor\n",
    "lgb_reg = lgb.LGBMRegressor()\n",
    "\n",
    "param_dist = {\n",
    "    \"n_estimators\": [250, 350, 450],\n",
    "}\n",
    "\n",
    "# Define K-fold cross-validation (you can use KFold for regression)\n",
    "cv = KFold(n_splits=5, shuffle=True, random_state=42)\n",
    "\n",
    "# Categorical feature names - specify the names of your categorical columns\n",
    "categorical_features = ['item_id', 'dept_id', 'cat_id', 'store_id', 'state_id']  \n",
    "\n",
    "\n",
    "\n",
    "# Convert categorical features to the 'category' data type\n",
    "for feature in categorical_features:\n",
    "    x_val[feature] = x_val[feature].astype('category')    \n",
    "    \n",
    "# Use GridSearchCV to find the best hyperparameters\n",
    "grid = GridSearchCV(lgb_reg, param_dist, cv=cv, refit=True, scoring='neg_mean_absolute_error', verbose=2)\n",
    "\n",
    "# Add categorical_feature parameter to the fit function\n",
    "grid.fit(x_train, y_train, categorical_feature=categorical_features)\n",
    "\n",
    "# Print the best hyperparameters found\n",
    "print(\"Best hyperparameters:\", grid.best_params_)\n",
    "\n",
    "# Get the best model\n",
    "best_model = grid.best_estimator_\n",
    "\n",
    "# # Convert categorical features in x_test to the 'category' data type using the same categorical_features list\n",
    "# for feature in categorical_features:\n",
    "#     x_test[feature] = x_test[feature].astype('category')\n",
    "\n",
    "# Make predictions on the test set\n",
    "y_pred = best_model.predict(x_test)\n",
    "\n",
    "# Calculate RMSE on the test set\n",
    "rmse = mean_squared_error(y_test, y_pred, squared=False)\n",
    "print(\"Test RMSE:\", rmse)\n"
   ]
  },
  {
   "cell_type": "code",
   "execution_count": null,
   "id": "bcc7475a-f8d7-4232-871c-7db221e330a3",
   "metadata": {},
   "outputs": [],
   "source": []
  }
 ],
 "metadata": {
  "kernelspec": {
   "display_name": "Python 3 (ipykernel)",
   "language": "python",
   "name": "python3"
  },
  "language_info": {
   "codemirror_mode": {
    "name": "ipython",
    "version": 3
   },
   "file_extension": ".py",
   "mimetype": "text/x-python",
   "name": "python",
   "nbconvert_exporter": "python",
   "pygments_lexer": "ipython3",
   "version": "3.10.9"
  }
 },
 "nbformat": 4,
 "nbformat_minor": 5
}
