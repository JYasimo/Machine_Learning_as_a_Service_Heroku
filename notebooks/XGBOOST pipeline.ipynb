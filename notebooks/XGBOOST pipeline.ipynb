{
 "cells": [
  {
   "cell_type": "markdown",
   "id": "111ec785-d5a1-4c82-9110-fc9e32be3335",
   "metadata": {},
   "source": [
    "# Read the dataset"
   ]
  },
  {
   "cell_type": "code",
   "execution_count": 1,
   "id": "c23fef06-0cc4-45b9-8505-52e9b09380c2",
   "metadata": {
    "tags": []
   },
   "outputs": [],
   "source": [
    "#Read data\n",
    "import pandas as pd\n",
    "merged_df = pd.read_csv('../data/processed/reduced_cs.csv',low_memory=False)\n"
   ]
  },
  {
   "cell_type": "code",
   "execution_count": 2,
   "id": "29cabcf2-7d21-4432-9371-b6affa1d1058",
   "metadata": {
    "tags": []
   },
   "outputs": [],
   "source": [
    "#change the name of df\n",
    "train_df=merged_df"
   ]
  },
  {
   "cell_type": "markdown",
   "id": "380587e1-4cb9-4e9c-8885-dc709dd65390",
   "metadata": {},
   "source": [
    "# Reduce size"
   ]
  },
  {
   "cell_type": "code",
   "execution_count": 3,
   "id": "7712a165-a83c-42a9-a0fe-ce67d747ab04",
   "metadata": {
    "tags": []
   },
   "outputs": [
    {
     "name": "stdout",
     "output_type": "stream",
     "text": [
      "Initial Memory Usage: 28997.45 MB\n",
      "Reduced Memory Usage: 1261.80 MB\n",
      "Memory Reduced by: 95.65%\n"
     ]
    }
   ],
   "source": [
    "import pandas as pd\n",
    "\n",
    "class MemoryReducer:\n",
    "    def __init__(self, df):\n",
    "        self.df = df.copy()\n",
    "\n",
    "    def reduce_memory_usage(self):\n",
    "        initial_memory = self.df.memory_usage(deep=True).sum() / (1024 ** 2)  # in megabytes\n",
    "        print(f\"Initial Memory Usage: {initial_memory:.2f} MB\")\n",
    "\n",
    "        for col in self.df.columns:\n",
    "            col_type = self.df[col].dtype\n",
    "\n",
    "            if col_type != object:\n",
    "                if \"int\" in str(col_type):\n",
    "                    self.df[col] = pd.to_numeric(self.df[col], downcast=\"integer\")\n",
    "                elif \"float\" in str(col_type):\n",
    "                    self.df[col] = pd.to_numeric(self.df[col], downcast=\"float\")\n",
    "            else:\n",
    "                num_unique_values = len(self.df[col].unique())\n",
    "                num_total_values = len(self.df[col])\n",
    "                if num_unique_values / num_total_values < 0.5:\n",
    "                    self.df[col] = self.df[col].astype(\"category\")\n",
    "\n",
    "        reduced_memory = self.df.memory_usage(deep=True).sum() / (1024 ** 2)  # in megabytes\n",
    "        print(f\"Reduced Memory Usage: {reduced_memory:.2f} MB\")\n",
    "        reduction_percentage = ((initial_memory - reduced_memory) / initial_memory) * 100\n",
    "        print(f\"Memory Reduced by: {reduction_percentage:.2f}%\")\n",
    "\n",
    "        return self.df\n",
    "\n",
    "\n",
    "\n",
    "reducer = MemoryReducer(train_df)\n",
    "reduced_df = reducer.reduce_memory_usage()\n"
   ]
  },
  {
   "cell_type": "code",
   "execution_count": 132,
   "id": "d29617ac-2d1c-471c-b8f0-fbcd6f12ff16",
   "metadata": {
    "tags": []
   },
   "outputs": [],
   "source": [
    "df_train=reduced_df"
   ]
  },
  {
   "cell_type": "code",
   "execution_count": 198,
   "id": "0378a2de-bf46-4b72-9c71-93ab67ee8c41",
   "metadata": {
    "tags": []
   },
   "outputs": [],
   "source": [
    "import category_encoders as ce\n",
    "import numpy as np\n",
    "from sklearn.compose import ColumnTransformer\n",
    "from sklearn.pipeline import Pipeline\n",
    "from sklearn.preprocessing import StandardScaler\n",
    "from sklearn.preprocessing import FunctionTransformer \n",
    "from sklearn.impute import SimpleImputer\n",
    "from sklearn.base import BaseEstimator, TransformerMixin\n",
    "\n",
    "#different types of columns\n",
    "cat_cols=[ 'item_id', 'dept_id', 'cat_id', 'store_id']\n",
    "num_cols=['day','count', 'date', 'wm_yr_wk', 'event_name', 'event_type', 'sell_price','revenue', 'year', 'month']\n",
    "target=['revenue']\n",
    "\n",
    "# Create a BinaryEncoder instance\n",
    "encoder = ce.BinaryEncoder()\n",
    "\n",
    "# Define a custom transformer to calculate lags features\n",
    "# Define a custom transformer to calculate lags features\n",
    "def calculate_lags(X):\n",
    "    lags = [1, 5, 7, 14]\n",
    "    for lag in lags:\n",
    "        X[\"lag_\" + str(lag)] = X.groupby(\"id\")[\"revenue\"].shift(lag).astype(np.float16)\n",
    "    \n",
    "    # Fill NaN values with 0 in the lag columns\n",
    "    lag_columns = [col for col in X.columns if col.startswith(\"lag_\")]\n",
    "    X[lag_columns] = X[lag_columns].fillna(0)\n",
    "\n",
    "    # Remove the 'id' and 'revenue' columns\n",
    "    X = X.drop(columns=['id', 'revenue'])\n",
    "\n",
    "    return X\n",
    "\n",
    "# Custom Transformer to remove specific columns\n",
    "class ColumnRemover(BaseEstimator, TransformerMixin):\n",
    "    def __init__(self, columns_to_remove):\n",
    "        self.columns_to_remove = columns_to_remove\n",
    "\n",
    "    def fit(self, X, y=None):\n",
    "        return self\n",
    "\n",
    "    def transform(self, X):\n",
    "        return X.drop(self.columns_to_remove, axis=1)\n",
    "    \n",
    "# Define the columns to remove\n",
    "columns_to_remove = ['date', 'wm_yr_wk','id']\n",
    "\n",
    "# Define the columns to be encoded and the lagged column\n",
    "categorical_columns = ['item_id', 'event_type', 'event_name', 'dept_id', 'cat_id', 'store_id', 'state_id']\n",
    "lagged_column = 'revenue'\n",
    "lags = [1, 5, 7, 14]  # Specify the number of lags you want\n",
    "\n",
    "\n",
    "# Define a custom function to replace NaN with 0\n",
    "def replace_nan_with_zero(X):\n",
    "    return np.where(np.isnan(X), 0, X)\n",
    "\n",
    "# Create a column transformer for encoding and lag calculation\n",
    "preprocessor = ColumnTransformer(\n",
    "    transformers=[\n",
    "         ('binary_encoder', encoder, categorical_columns),\n",
    "         ('replace_nan_with_zero', FunctionTransformer(replace_nan_with_zero), ['revenue','sell_price']),\n",
    "         ('calculate_lags', FunctionTransformer(calculate_lags, validate=False), ['revenue', 'id']),\n",
    "        \n",
    "    ],\n",
    "    remainder='drop'  # This will keep the remaining columns not specified in transformers\n",
    ")"
   ]
  },
  {
   "cell_type": "code",
   "execution_count": 199,
   "id": "f987d95a-c413-448e-8948-d405afea8bc1",
   "metadata": {
    "tags": []
   },
   "outputs": [],
   "source": [
    "from xgboost import XGBRegressor\n",
    "# Create a pipeline\n",
    "xgb_pipeline = Pipeline([\n",
    "    ('preprocessor', preprocessor),\n",
    "    ('scaler', StandardScaler()),  \n",
    "    ('xgboost', XGBRegressor(n_estimators=650, gamma=0.05))\n",
    "])\n",
    "\n"
   ]
  },
  {
   "cell_type": "code",
   "execution_count": 202,
   "id": "c161c4b3-c601-49e8-9500-53ee891edf24",
   "metadata": {
    "tags": []
   },
   "outputs": [
    {
     "data": {
      "text/html": [
       "<style>#sk-container-id-5 {color: black;background-color: white;}#sk-container-id-5 pre{padding: 0;}#sk-container-id-5 div.sk-toggleable {background-color: white;}#sk-container-id-5 label.sk-toggleable__label {cursor: pointer;display: block;width: 100%;margin-bottom: 0;padding: 0.3em;box-sizing: border-box;text-align: center;}#sk-container-id-5 label.sk-toggleable__label-arrow:before {content: \"▸\";float: left;margin-right: 0.25em;color: #696969;}#sk-container-id-5 label.sk-toggleable__label-arrow:hover:before {color: black;}#sk-container-id-5 div.sk-estimator:hover label.sk-toggleable__label-arrow:before {color: black;}#sk-container-id-5 div.sk-toggleable__content {max-height: 0;max-width: 0;overflow: hidden;text-align: left;background-color: #f0f8ff;}#sk-container-id-5 div.sk-toggleable__content pre {margin: 0.2em;color: black;border-radius: 0.25em;background-color: #f0f8ff;}#sk-container-id-5 input.sk-toggleable__control:checked~div.sk-toggleable__content {max-height: 200px;max-width: 100%;overflow: auto;}#sk-container-id-5 input.sk-toggleable__control:checked~label.sk-toggleable__label-arrow:before {content: \"▾\";}#sk-container-id-5 div.sk-estimator input.sk-toggleable__control:checked~label.sk-toggleable__label {background-color: #d4ebff;}#sk-container-id-5 div.sk-label input.sk-toggleable__control:checked~label.sk-toggleable__label {background-color: #d4ebff;}#sk-container-id-5 input.sk-hidden--visually {border: 0;clip: rect(1px 1px 1px 1px);clip: rect(1px, 1px, 1px, 1px);height: 1px;margin: -1px;overflow: hidden;padding: 0;position: absolute;width: 1px;}#sk-container-id-5 div.sk-estimator {font-family: monospace;background-color: #f0f8ff;border: 1px dotted black;border-radius: 0.25em;box-sizing: border-box;margin-bottom: 0.5em;}#sk-container-id-5 div.sk-estimator:hover {background-color: #d4ebff;}#sk-container-id-5 div.sk-parallel-item::after {content: \"\";width: 100%;border-bottom: 1px solid gray;flex-grow: 1;}#sk-container-id-5 div.sk-label:hover label.sk-toggleable__label {background-color: #d4ebff;}#sk-container-id-5 div.sk-serial::before {content: \"\";position: absolute;border-left: 1px solid gray;box-sizing: border-box;top: 0;bottom: 0;left: 50%;z-index: 0;}#sk-container-id-5 div.sk-serial {display: flex;flex-direction: column;align-items: center;background-color: white;padding-right: 0.2em;padding-left: 0.2em;position: relative;}#sk-container-id-5 div.sk-item {position: relative;z-index: 1;}#sk-container-id-5 div.sk-parallel {display: flex;align-items: stretch;justify-content: center;background-color: white;position: relative;}#sk-container-id-5 div.sk-item::before, #sk-container-id-5 div.sk-parallel-item::before {content: \"\";position: absolute;border-left: 1px solid gray;box-sizing: border-box;top: 0;bottom: 0;left: 50%;z-index: -1;}#sk-container-id-5 div.sk-parallel-item {display: flex;flex-direction: column;z-index: 1;position: relative;background-color: white;}#sk-container-id-5 div.sk-parallel-item:first-child::after {align-self: flex-end;width: 50%;}#sk-container-id-5 div.sk-parallel-item:last-child::after {align-self: flex-start;width: 50%;}#sk-container-id-5 div.sk-parallel-item:only-child::after {width: 0;}#sk-container-id-5 div.sk-dashed-wrapped {border: 1px dashed gray;margin: 0 0.4em 0.5em 0.4em;box-sizing: border-box;padding-bottom: 0.4em;background-color: white;}#sk-container-id-5 div.sk-label label {font-family: monospace;font-weight: bold;display: inline-block;line-height: 1.2em;}#sk-container-id-5 div.sk-label-container {text-align: center;}#sk-container-id-5 div.sk-container {/* jupyter's `normalize.less` sets `[hidden] { display: none; }` but bootstrap.min.css set `[hidden] { display: none !important; }` so we also need the `!important` here to be able to override the default hidden behavior on the sphinx rendered scikit-learn.org. See: https://github.com/scikit-learn/scikit-learn/issues/21755 */display: inline-block !important;position: relative;}#sk-container-id-5 div.sk-text-repr-fallback {display: none;}</style><div id=\"sk-container-id-5\" class=\"sk-top-container\"><div class=\"sk-text-repr-fallback\"><pre>Pipeline(steps=[(&#x27;preprocessor&#x27;,\n",
       "                 ColumnTransformer(transformers=[(&#x27;binary_encoder&#x27;,\n",
       "                                                  BinaryEncoder(),\n",
       "                                                  [&#x27;item_id&#x27;, &#x27;event_type&#x27;,\n",
       "                                                   &#x27;event_name&#x27;, &#x27;dept_id&#x27;,\n",
       "                                                   &#x27;cat_id&#x27;, &#x27;store_id&#x27;,\n",
       "                                                   &#x27;state_id&#x27;]),\n",
       "                                                 (&#x27;replace_nan_with_zero&#x27;,\n",
       "                                                  FunctionTransformer(func=&lt;function replace_nan_with_zero at 0x2af6d27a0&gt;),\n",
       "                                                  [&#x27;revenue&#x27;, &#x27;sell_price&#x27;]),\n",
       "                                                 (&#x27;calculate_lags&#x27;,\n",
       "                                                  FunctionTransformer(func=&lt;functi...\n",
       "                              feature_types=None, gamma=0.05, grow_policy=None,\n",
       "                              importance_type=None,\n",
       "                              interaction_constraints=None, learning_rate=None,\n",
       "                              max_bin=None, max_cat_threshold=None,\n",
       "                              max_cat_to_onehot=None, max_delta_step=None,\n",
       "                              max_depth=None, max_leaves=None,\n",
       "                              min_child_weight=None, missing=nan,\n",
       "                              monotone_constraints=None, multi_strategy=None,\n",
       "                              n_estimators=650, n_jobs=None,\n",
       "                              num_parallel_tree=None, random_state=None, ...))])</pre><b>In a Jupyter environment, please rerun this cell to show the HTML representation or trust the notebook. <br />On GitHub, the HTML representation is unable to render, please try loading this page with nbviewer.org.</b></div><div class=\"sk-container\" hidden><div class=\"sk-item sk-dashed-wrapped\"><div class=\"sk-label-container\"><div class=\"sk-label sk-toggleable\"><input class=\"sk-toggleable__control sk-hidden--visually\" id=\"sk-estimator-id-24\" type=\"checkbox\" ><label for=\"sk-estimator-id-24\" class=\"sk-toggleable__label sk-toggleable__label-arrow\">Pipeline</label><div class=\"sk-toggleable__content\"><pre>Pipeline(steps=[(&#x27;preprocessor&#x27;,\n",
       "                 ColumnTransformer(transformers=[(&#x27;binary_encoder&#x27;,\n",
       "                                                  BinaryEncoder(),\n",
       "                                                  [&#x27;item_id&#x27;, &#x27;event_type&#x27;,\n",
       "                                                   &#x27;event_name&#x27;, &#x27;dept_id&#x27;,\n",
       "                                                   &#x27;cat_id&#x27;, &#x27;store_id&#x27;,\n",
       "                                                   &#x27;state_id&#x27;]),\n",
       "                                                 (&#x27;replace_nan_with_zero&#x27;,\n",
       "                                                  FunctionTransformer(func=&lt;function replace_nan_with_zero at 0x2af6d27a0&gt;),\n",
       "                                                  [&#x27;revenue&#x27;, &#x27;sell_price&#x27;]),\n",
       "                                                 (&#x27;calculate_lags&#x27;,\n",
       "                                                  FunctionTransformer(func=&lt;functi...\n",
       "                              feature_types=None, gamma=0.05, grow_policy=None,\n",
       "                              importance_type=None,\n",
       "                              interaction_constraints=None, learning_rate=None,\n",
       "                              max_bin=None, max_cat_threshold=None,\n",
       "                              max_cat_to_onehot=None, max_delta_step=None,\n",
       "                              max_depth=None, max_leaves=None,\n",
       "                              min_child_weight=None, missing=nan,\n",
       "                              monotone_constraints=None, multi_strategy=None,\n",
       "                              n_estimators=650, n_jobs=None,\n",
       "                              num_parallel_tree=None, random_state=None, ...))])</pre></div></div></div><div class=\"sk-serial\"><div class=\"sk-item sk-dashed-wrapped\"><div class=\"sk-label-container\"><div class=\"sk-label sk-toggleable\"><input class=\"sk-toggleable__control sk-hidden--visually\" id=\"sk-estimator-id-25\" type=\"checkbox\" ><label for=\"sk-estimator-id-25\" class=\"sk-toggleable__label sk-toggleable__label-arrow\">preprocessor: ColumnTransformer</label><div class=\"sk-toggleable__content\"><pre>ColumnTransformer(transformers=[(&#x27;binary_encoder&#x27;, BinaryEncoder(),\n",
       "                                 [&#x27;item_id&#x27;, &#x27;event_type&#x27;, &#x27;event_name&#x27;,\n",
       "                                  &#x27;dept_id&#x27;, &#x27;cat_id&#x27;, &#x27;store_id&#x27;,\n",
       "                                  &#x27;state_id&#x27;]),\n",
       "                                (&#x27;replace_nan_with_zero&#x27;,\n",
       "                                 FunctionTransformer(func=&lt;function replace_nan_with_zero at 0x2af6d27a0&gt;),\n",
       "                                 [&#x27;revenue&#x27;, &#x27;sell_price&#x27;]),\n",
       "                                (&#x27;calculate_lags&#x27;,\n",
       "                                 FunctionTransformer(func=&lt;function calculate_lags at 0x2af6d0d30&gt;),\n",
       "                                 [&#x27;revenue&#x27;, &#x27;id&#x27;])])</pre></div></div></div><div class=\"sk-parallel\"><div class=\"sk-parallel-item\"><div class=\"sk-item\"><div class=\"sk-label-container\"><div class=\"sk-label sk-toggleable\"><input class=\"sk-toggleable__control sk-hidden--visually\" id=\"sk-estimator-id-26\" type=\"checkbox\" ><label for=\"sk-estimator-id-26\" class=\"sk-toggleable__label sk-toggleable__label-arrow\">binary_encoder</label><div class=\"sk-toggleable__content\"><pre>[&#x27;item_id&#x27;, &#x27;event_type&#x27;, &#x27;event_name&#x27;, &#x27;dept_id&#x27;, &#x27;cat_id&#x27;, &#x27;store_id&#x27;, &#x27;state_id&#x27;]</pre></div></div></div><div class=\"sk-serial\"><div class=\"sk-item\"><div class=\"sk-estimator sk-toggleable\"><input class=\"sk-toggleable__control sk-hidden--visually\" id=\"sk-estimator-id-27\" type=\"checkbox\" ><label for=\"sk-estimator-id-27\" class=\"sk-toggleable__label sk-toggleable__label-arrow\">BinaryEncoder</label><div class=\"sk-toggleable__content\"><pre>BinaryEncoder()</pre></div></div></div></div></div></div><div class=\"sk-parallel-item\"><div class=\"sk-item\"><div class=\"sk-label-container\"><div class=\"sk-label sk-toggleable\"><input class=\"sk-toggleable__control sk-hidden--visually\" id=\"sk-estimator-id-28\" type=\"checkbox\" ><label for=\"sk-estimator-id-28\" class=\"sk-toggleable__label sk-toggleable__label-arrow\">replace_nan_with_zero</label><div class=\"sk-toggleable__content\"><pre>[&#x27;revenue&#x27;, &#x27;sell_price&#x27;]</pre></div></div></div><div class=\"sk-serial\"><div class=\"sk-item\"><div class=\"sk-estimator sk-toggleable\"><input class=\"sk-toggleable__control sk-hidden--visually\" id=\"sk-estimator-id-29\" type=\"checkbox\" ><label for=\"sk-estimator-id-29\" class=\"sk-toggleable__label sk-toggleable__label-arrow\">FunctionTransformer</label><div class=\"sk-toggleable__content\"><pre>FunctionTransformer(func=&lt;function replace_nan_with_zero at 0x2af6d27a0&gt;)</pre></div></div></div></div></div></div><div class=\"sk-parallel-item\"><div class=\"sk-item\"><div class=\"sk-label-container\"><div class=\"sk-label sk-toggleable\"><input class=\"sk-toggleable__control sk-hidden--visually\" id=\"sk-estimator-id-30\" type=\"checkbox\" ><label for=\"sk-estimator-id-30\" class=\"sk-toggleable__label sk-toggleable__label-arrow\">calculate_lags</label><div class=\"sk-toggleable__content\"><pre>[&#x27;revenue&#x27;, &#x27;id&#x27;]</pre></div></div></div><div class=\"sk-serial\"><div class=\"sk-item\"><div class=\"sk-estimator sk-toggleable\"><input class=\"sk-toggleable__control sk-hidden--visually\" id=\"sk-estimator-id-31\" type=\"checkbox\" ><label for=\"sk-estimator-id-31\" class=\"sk-toggleable__label sk-toggleable__label-arrow\">FunctionTransformer</label><div class=\"sk-toggleable__content\"><pre>FunctionTransformer(func=&lt;function calculate_lags at 0x2af6d0d30&gt;)</pre></div></div></div></div></div></div></div></div><div class=\"sk-item\"><div class=\"sk-estimator sk-toggleable\"><input class=\"sk-toggleable__control sk-hidden--visually\" id=\"sk-estimator-id-32\" type=\"checkbox\" ><label for=\"sk-estimator-id-32\" class=\"sk-toggleable__label sk-toggleable__label-arrow\">StandardScaler</label><div class=\"sk-toggleable__content\"><pre>StandardScaler()</pre></div></div></div><div class=\"sk-item\"><div class=\"sk-estimator sk-toggleable\"><input class=\"sk-toggleable__control sk-hidden--visually\" id=\"sk-estimator-id-33\" type=\"checkbox\" ><label for=\"sk-estimator-id-33\" class=\"sk-toggleable__label sk-toggleable__label-arrow\">XGBRegressor</label><div class=\"sk-toggleable__content\"><pre>XGBRegressor(base_score=None, booster=None, callbacks=None,\n",
       "             colsample_bylevel=None, colsample_bynode=None,\n",
       "             colsample_bytree=None, device=None, early_stopping_rounds=None,\n",
       "             enable_categorical=False, eval_metric=None, feature_types=None,\n",
       "             gamma=0.05, grow_policy=None, importance_type=None,\n",
       "             interaction_constraints=None, learning_rate=None, max_bin=None,\n",
       "             max_cat_threshold=None, max_cat_to_onehot=None,\n",
       "             max_delta_step=None, max_depth=None, max_leaves=None,\n",
       "             min_child_weight=None, missing=nan, monotone_constraints=None,\n",
       "             multi_strategy=None, n_estimators=650, n_jobs=None,\n",
       "             num_parallel_tree=None, random_state=None, ...)</pre></div></div></div></div></div></div></div>"
      ],
      "text/plain": [
       "Pipeline(steps=[('preprocessor',\n",
       "                 ColumnTransformer(transformers=[('binary_encoder',\n",
       "                                                  BinaryEncoder(),\n",
       "                                                  ['item_id', 'event_type',\n",
       "                                                   'event_name', 'dept_id',\n",
       "                                                   'cat_id', 'store_id',\n",
       "                                                   'state_id']),\n",
       "                                                 ('replace_nan_with_zero',\n",
       "                                                  FunctionTransformer(func=<function replace_nan_with_zero at 0x2af6d27a0>),\n",
       "                                                  ['revenue', 'sell_price']),\n",
       "                                                 ('calculate_lags',\n",
       "                                                  FunctionTransformer(func=<functi...\n",
       "                              feature_types=None, gamma=0.05, grow_policy=None,\n",
       "                              importance_type=None,\n",
       "                              interaction_constraints=None, learning_rate=None,\n",
       "                              max_bin=None, max_cat_threshold=None,\n",
       "                              max_cat_to_onehot=None, max_delta_step=None,\n",
       "                              max_depth=None, max_leaves=None,\n",
       "                              min_child_weight=None, missing=nan,\n",
       "                              monotone_constraints=None, multi_strategy=None,\n",
       "                              n_estimators=650, n_jobs=None,\n",
       "                              num_parallel_tree=None, random_state=None, ...))])"
      ]
     },
     "execution_count": 202,
     "metadata": {},
     "output_type": "execute_result"
    }
   ],
   "source": [
    "#Fit the pipeline\n",
    "target = df_train['revenue']\n",
    "xgb_pipeline.fit(df_train, target)"
   ]
  },
  {
   "cell_type": "code",
   "execution_count": 203,
   "id": "03c450e6-9a9b-41c1-91ca-d51588ac49f4",
   "metadata": {
    "tags": []
   },
   "outputs": [
    {
     "data": {
      "text/plain": [
       "['../models/XGBOOST_pipe.joblib']"
      ]
     },
     "execution_count": 203,
     "metadata": {},
     "output_type": "execute_result"
    }
   ],
   "source": [
    "# save the model\n",
    "from joblib import dump\n",
    "\n",
    "dump(xgb_pipeline,  '../models/XGBOOST_pipe.joblib')"
   ]
  },
  {
   "cell_type": "code",
   "execution_count": null,
   "id": "f8031312-2c01-424f-b88e-fbd47b2966a0",
   "metadata": {},
   "outputs": [],
   "source": []
  }
 ],
 "metadata": {
  "kernelspec": {
   "display_name": "Python 3 (ipykernel)",
   "language": "python",
   "name": "python3"
  },
  "language_info": {
   "codemirror_mode": {
    "name": "ipython",
    "version": 3
   },
   "file_extension": ".py",
   "mimetype": "text/x-python",
   "name": "python",
   "nbconvert_exporter": "python",
   "pygments_lexer": "ipython3",
   "version": "3.10.9"
  }
 },
 "nbformat": 4,
 "nbformat_minor": 5
}
