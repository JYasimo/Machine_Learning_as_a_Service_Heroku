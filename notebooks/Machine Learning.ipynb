{
 "cells": [
  {
   "cell_type": "markdown",
   "id": "5dce6b3b-c5a0-4576-bc53-f38f243faa4a",
   "metadata": {},
   "source": [
    "# Reading Data"
   ]
  },
  {
   "cell_type": "code",
   "execution_count": 1,
   "id": "8d2ea227-0f27-4c7c-8881-39c579bf4827",
   "metadata": {
    "tags": []
   },
   "outputs": [],
   "source": [
    "import pandas as pd\n",
    "# Reading files\n",
    "x_train = pd.read_csv('../data/processed/x_train.csv',low_memory=False)\n",
    "x_test = pd.read_csv('../data/processed/x_test.csv',low_memory=False)\n",
    "y_train = pd.read_csv('../data/processed/y_train.csv',low_memory=False)\n",
    "y_test = pd.read_csv('../data/processed/y_test.csv',low_memory=False)\n",
    "\n"
   ]
  },
  {
   "cell_type": "code",
   "execution_count": 7,
   "id": "c90be899-883f-4ca9-88ff-f0c7b3311772",
   "metadata": {
    "tags": []
   },
   "outputs": [],
   "source": [
    "#drop id column\n",
    "x_train= x_train.drop([\"id\"],axis=1)\n",
    "x_test= x_test.drop([\"id\"],axis=1)"
   ]
  },
  {
   "cell_type": "markdown",
   "id": "7511fdb0-f946-4f37-a441-21e3a1603bd1",
   "metadata": {},
   "source": [
    "# Machine Learning"
   ]
  },
  {
   "cell_type": "code",
   "execution_count": 9,
   "id": "b076b5a4-cc9f-4f98-93b1-84f71ac846fb",
   "metadata": {
    "tags": []
   },
   "outputs": [
    {
     "name": "stdout",
     "output_type": "stream",
     "text": [
      "Fitting 5 folds for each of 3 candidates, totalling 15 fits\n",
      "[LightGBM] [Info] Auto-choosing row-wise multi-threading, the overhead of testing was 0.531171 seconds.\n",
      "You can set `force_row_wise=true` to remove the overhead.\n",
      "And if memory is not enough, you can set `force_col_wise=true`.\n",
      "[LightGBM] [Info] Total Bins 1130\n",
      "[LightGBM] [Info] Number of data points in the train set: 37685640, number of used features: 11\n",
      "[LightGBM] [Info] Start training from score 3.032877\n",
      "[CV] END ...................................n_estimators=250; total time= 1.0min\n",
      "[LightGBM] [Info] Auto-choosing row-wise multi-threading, the overhead of testing was 0.446280 seconds.\n",
      "You can set `force_row_wise=true` to remove the overhead.\n",
      "And if memory is not enough, you can set `force_col_wise=true`.\n",
      "[LightGBM] [Info] Total Bins 1125\n",
      "[LightGBM] [Info] Number of data points in the train set: 37685640, number of used features: 11\n",
      "[LightGBM] [Info] Start training from score 3.031349\n",
      "[CV] END ...................................n_estimators=250; total time= 1.0min\n",
      "[LightGBM] [Info] Auto-choosing row-wise multi-threading, the overhead of testing was 0.711778 seconds.\n",
      "You can set `force_row_wise=true` to remove the overhead.\n",
      "And if memory is not enough, you can set `force_col_wise=true`.\n",
      "[LightGBM] [Info] Total Bins 1130\n",
      "[LightGBM] [Info] Number of data points in the train set: 37685640, number of used features: 11\n",
      "[LightGBM] [Info] Start training from score 3.032641\n",
      "[CV] END ...................................n_estimators=250; total time= 1.0min\n",
      "[LightGBM] [Info] Auto-choosing row-wise multi-threading, the overhead of testing was 0.459866 seconds.\n",
      "You can set `force_row_wise=true` to remove the overhead.\n",
      "And if memory is not enough, you can set `force_col_wise=true`.\n",
      "[LightGBM] [Info] Total Bins 1130\n",
      "[LightGBM] [Info] Number of data points in the train set: 37685640, number of used features: 11\n",
      "[LightGBM] [Info] Start training from score 3.032144\n",
      "[CV] END ...................................n_estimators=250; total time= 1.0min\n",
      "[LightGBM] [Info] Auto-choosing row-wise multi-threading, the overhead of testing was 0.492562 seconds.\n",
      "You can set `force_row_wise=true` to remove the overhead.\n",
      "And if memory is not enough, you can set `force_col_wise=true`.\n",
      "[LightGBM] [Info] Total Bins 1125\n",
      "[LightGBM] [Info] Number of data points in the train set: 37685640, number of used features: 11\n",
      "[LightGBM] [Info] Start training from score 3.031362\n",
      "[CV] END ...................................n_estimators=250; total time= 1.0min\n",
      "[LightGBM] [Info] Auto-choosing row-wise multi-threading, the overhead of testing was 0.398386 seconds.\n",
      "You can set `force_row_wise=true` to remove the overhead.\n",
      "And if memory is not enough, you can set `force_col_wise=true`.\n",
      "[LightGBM] [Info] Total Bins 1130\n",
      "[LightGBM] [Info] Number of data points in the train set: 37685640, number of used features: 11\n",
      "[LightGBM] [Info] Start training from score 3.032877\n",
      "[CV] END ...................................n_estimators=350; total time= 1.4min\n",
      "[LightGBM] [Info] Auto-choosing row-wise multi-threading, the overhead of testing was 0.435303 seconds.\n",
      "You can set `force_row_wise=true` to remove the overhead.\n",
      "And if memory is not enough, you can set `force_col_wise=true`.\n",
      "[LightGBM] [Info] Total Bins 1125\n",
      "[LightGBM] [Info] Number of data points in the train set: 37685640, number of used features: 11\n",
      "[LightGBM] [Info] Start training from score 3.031349\n",
      "[CV] END ...................................n_estimators=350; total time= 1.4min\n",
      "[LightGBM] [Info] Auto-choosing row-wise multi-threading, the overhead of testing was 0.441876 seconds.\n",
      "You can set `force_row_wise=true` to remove the overhead.\n",
      "And if memory is not enough, you can set `force_col_wise=true`.\n",
      "[LightGBM] [Info] Total Bins 1130\n",
      "[LightGBM] [Info] Number of data points in the train set: 37685640, number of used features: 11\n",
      "[LightGBM] [Info] Start training from score 3.032641\n",
      "[CV] END ...................................n_estimators=350; total time= 1.4min\n",
      "[LightGBM] [Info] Auto-choosing row-wise multi-threading, the overhead of testing was 0.427628 seconds.\n",
      "You can set `force_row_wise=true` to remove the overhead.\n",
      "And if memory is not enough, you can set `force_col_wise=true`.\n",
      "[LightGBM] [Info] Total Bins 1130\n",
      "[LightGBM] [Info] Number of data points in the train set: 37685640, number of used features: 11\n",
      "[LightGBM] [Info] Start training from score 3.032144\n",
      "[CV] END ...................................n_estimators=350; total time= 1.4min\n",
      "[LightGBM] [Info] Auto-choosing row-wise multi-threading, the overhead of testing was 0.430933 seconds.\n",
      "You can set `force_row_wise=true` to remove the overhead.\n",
      "And if memory is not enough, you can set `force_col_wise=true`.\n",
      "[LightGBM] [Info] Total Bins 1125\n",
      "[LightGBM] [Info] Number of data points in the train set: 37685640, number of used features: 11\n",
      "[LightGBM] [Info] Start training from score 3.031362\n",
      "[CV] END ...................................n_estimators=350; total time= 1.3min\n",
      "[LightGBM] [Info] Auto-choosing row-wise multi-threading, the overhead of testing was 0.417541 seconds.\n",
      "You can set `force_row_wise=true` to remove the overhead.\n",
      "And if memory is not enough, you can set `force_col_wise=true`.\n",
      "[LightGBM] [Info] Total Bins 1130\n",
      "[LightGBM] [Info] Number of data points in the train set: 37685640, number of used features: 11\n",
      "[LightGBM] [Info] Start training from score 3.032877\n",
      "[CV] END ...................................n_estimators=450; total time= 1.7min\n",
      "[LightGBM] [Info] Auto-choosing row-wise multi-threading, the overhead of testing was 0.469121 seconds.\n",
      "You can set `force_row_wise=true` to remove the overhead.\n",
      "And if memory is not enough, you can set `force_col_wise=true`.\n",
      "[LightGBM] [Info] Total Bins 1125\n",
      "[LightGBM] [Info] Number of data points in the train set: 37685640, number of used features: 11\n",
      "[LightGBM] [Info] Start training from score 3.031349\n",
      "[CV] END ...................................n_estimators=450; total time= 1.7min\n",
      "[LightGBM] [Info] Auto-choosing row-wise multi-threading, the overhead of testing was 0.493599 seconds.\n",
      "You can set `force_row_wise=true` to remove the overhead.\n",
      "And if memory is not enough, you can set `force_col_wise=true`.\n",
      "[LightGBM] [Info] Total Bins 1130\n",
      "[LightGBM] [Info] Number of data points in the train set: 37685640, number of used features: 11\n",
      "[LightGBM] [Info] Start training from score 3.032641\n",
      "[CV] END ...................................n_estimators=450; total time= 1.6min\n",
      "[LightGBM] [Info] Auto-choosing row-wise multi-threading, the overhead of testing was 0.506661 seconds.\n",
      "You can set `force_row_wise=true` to remove the overhead.\n",
      "And if memory is not enough, you can set `force_col_wise=true`.\n",
      "[LightGBM] [Info] Total Bins 1130\n",
      "[LightGBM] [Info] Number of data points in the train set: 37685640, number of used features: 11\n",
      "[LightGBM] [Info] Start training from score 3.032144\n",
      "[CV] END ...................................n_estimators=450; total time= 1.6min\n",
      "[LightGBM] [Info] Auto-choosing row-wise multi-threading, the overhead of testing was 0.439755 seconds.\n",
      "You can set `force_row_wise=true` to remove the overhead.\n",
      "And if memory is not enough, you can set `force_col_wise=true`.\n",
      "[LightGBM] [Info] Total Bins 1125\n",
      "[LightGBM] [Info] Number of data points in the train set: 37685640, number of used features: 11\n",
      "[LightGBM] [Info] Start training from score 3.031362\n",
      "[CV] END ...................................n_estimators=450; total time= 1.6min\n",
      "[LightGBM] [Info] Auto-choosing row-wise multi-threading, the overhead of testing was 0.586188 seconds.\n",
      "You can set `force_row_wise=true` to remove the overhead.\n",
      "And if memory is not enough, you can set `force_col_wise=true`.\n",
      "[LightGBM] [Info] Total Bins 1133\n",
      "[LightGBM] [Info] Number of data points in the train set: 47107050, number of used features: 11\n",
      "[LightGBM] [Info] Start training from score 3.032075\n",
      "Best hyperparameters: {'n_estimators': 450}\n",
      "Test RMSE: 0.3301926853984869\n"
     ]
    }
   ],
   "source": [
    "import lightgbm as lgb\n",
    "from sklearn.model_selection import GridSearchCV, KFold\n",
    "from sklearn.metrics import mean_squared_error\n",
    "\n",
    "# Initialize LightGBM regressor\n",
    "lgb_reg = lgb.LGBMRegressor()\n",
    "\n",
    "param_dist = {\n",
    "    \"n_estimators\": [250, 350, 450],\n",
    "\n",
    "}\n",
    "\n",
    "# Define K-fold cross-validation (you can use KFold for regression)\n",
    "cv = KFold(n_splits=5, shuffle=True, random_state=42)\n",
    "\n",
    "# Use GridSearchCV to find the best hyperparameters\n",
    "grid = GridSearchCV(lgb_reg, param_dist, cv=cv, refit=True, scoring='neg_root_mean_squared_error', verbose=2)\n",
    "grid.fit(x_train, y_train)\n",
    "\n",
    "# Print the best hyperparameters found\n",
    "print(\"Best hyperparameters:\", grid.best_params_)\n",
    "\n",
    "# Get the best model\n",
    "best_model = grid.best_estimator_\n",
    "\n",
    "# Make predictions on the test set\n",
    "y_pred = best_model.predict(x_test)\n",
    "\n",
    "# Calculate RMSE on the test set\n",
    "rmse = mean_squared_error(y_test, y_pred, squared=False)\n",
    "print(\"Test RMSE:\", rmse)\n"
   ]
  },
  {
   "cell_type": "code",
   "execution_count": 11,
   "id": "1694dd58-cee1-4226-8d18-2bef16dcd8d0",
   "metadata": {
    "tags": []
   },
   "outputs": [
    {
     "data": {
      "text/plain": [
       "['../models/lightgbm.joblib']"
      ]
     },
     "execution_count": 11,
     "metadata": {},
     "output_type": "execute_result"
    }
   ],
   "source": [
    "# Solution:\n",
    "from joblib import dump\n",
    "\n",
    "dump(best_model,  '../models/lightgbm.joblib')"
   ]
  },
  {
   "cell_type": "code",
   "execution_count": null,
   "id": "1441179a-b7a6-4331-915d-d0665af1a97f",
   "metadata": {},
   "outputs": [],
   "source": []
  }
 ],
 "metadata": {
  "kernelspec": {
   "display_name": "Python 3 (ipykernel)",
   "language": "python",
   "name": "python3"
  },
  "language_info": {
   "codemirror_mode": {
    "name": "ipython",
    "version": 3
   },
   "file_extension": ".py",
   "mimetype": "text/x-python",
   "name": "python",
   "nbconvert_exporter": "python",
   "pygments_lexer": "ipython3",
   "version": "3.10.9"
  }
 },
 "nbformat": 4,
 "nbformat_minor": 5
}
