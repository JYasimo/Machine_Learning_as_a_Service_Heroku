{
 "cells": [
  {
   "cell_type": "code",
   "execution_count": 2,
   "id": "abf7833f-a548-4c16-a94e-59832cecbcbf",
   "metadata": {
    "tags": []
   },
   "outputs": [],
   "source": [
    "# Reading files\n",
    "import pandas as pd\n",
    "merged_df = pd.read_csv('../data/processed/merged_df.csv',low_memory=False)\n",
    "\n"
   ]
  },
  {
   "cell_type": "code",
   "execution_count": 3,
   "id": "e49cbe39-2286-4344-846e-d1bb47a24263",
   "metadata": {
    "tags": []
   },
   "outputs": [],
   "source": [
    "#change the name of df\n",
    "train_df=merged_df"
   ]
  },
  {
   "cell_type": "code",
   "execution_count": 4,
   "id": "7ffabd29-8c19-49bd-853a-4f0fffc04706",
   "metadata": {
    "tags": []
   },
   "outputs": [],
   "source": [
    "# Drop the 'id' column\n",
    "train_df.drop(columns=['id'], inplace=True)"
   ]
  },
  {
   "cell_type": "markdown",
   "id": "6dbbfff8-d1a6-49c5-8c12-dc3dcd29f96f",
   "metadata": {},
   "source": [
    "# Reduce Size"
   ]
  },
  {
   "cell_type": "code",
   "execution_count": 5,
   "id": "86e5fa87-497a-4f91-b120-40c3aa145534",
   "metadata": {
    "tags": []
   },
   "outputs": [
    {
     "name": "stdout",
     "output_type": "stream",
     "text": [
      "Initial Memory Usage: 25145.41 MB\n",
      "Reduced Memory Usage: 1168.45 MB\n",
      "Memory Reduced by: 95.35%\n"
     ]
    }
   ],
   "source": [
    "import pandas as pd\n",
    "\n",
    "class MemoryReducer:\n",
    "    def __init__(self, df):\n",
    "        self.df = df.copy()\n",
    "\n",
    "    def reduce_memory_usage(self):\n",
    "        initial_memory = self.df.memory_usage(deep=True).sum() / (1024 ** 2)  # in megabytes\n",
    "        print(f\"Initial Memory Usage: {initial_memory:.2f} MB\")\n",
    "\n",
    "        for col in self.df.columns:\n",
    "            col_type = self.df[col].dtype\n",
    "\n",
    "            if col_type != object:\n",
    "                if \"int\" in str(col_type):\n",
    "                    self.df[col] = pd.to_numeric(self.df[col], downcast=\"integer\")\n",
    "                elif \"float\" in str(col_type):\n",
    "                    self.df[col] = pd.to_numeric(self.df[col], downcast=\"float\")\n",
    "            else:\n",
    "                num_unique_values = len(self.df[col].unique())\n",
    "                num_total_values = len(self.df[col])\n",
    "                if num_unique_values / num_total_values < 0.5:\n",
    "                    self.df[col] = self.df[col].astype(\"category\")\n",
    "\n",
    "        reduced_memory = self.df.memory_usage(deep=True).sum() / (1024 ** 2)  # in megabytes\n",
    "        print(f\"Reduced Memory Usage: {reduced_memory:.2f} MB\")\n",
    "        reduction_percentage = ((initial_memory - reduced_memory) / initial_memory) * 100\n",
    "        print(f\"Memory Reduced by: {reduction_percentage:.2f}%\")\n",
    "\n",
    "        return self.df\n",
    "\n",
    "\n",
    "\n",
    "reducer = MemoryReducer(train_df)\n",
    "reduced_df = reducer.reduce_memory_usage()\n"
   ]
  },
  {
   "cell_type": "code",
   "execution_count": 6,
   "id": "742270b1-0d9b-4971-a076-6e5e6292e338",
   "metadata": {
    "tags": []
   },
   "outputs": [],
   "source": [
    "#rename dataframe\n",
    "df_train=reduced_df"
   ]
  },
  {
   "cell_type": "code",
   "execution_count": 7,
   "id": "785cc999-77ee-458c-8373-1c476ac4efa8",
   "metadata": {
    "tags": []
   },
   "outputs": [],
   "source": [
    "#fill missing value in target\n",
    "df_train['revenue'].fillna(0, inplace=True)"
   ]
  },
  {
   "cell_type": "code",
   "execution_count": 11,
   "id": "7a8a0cfe-b448-4822-a0b7-5fb72bfab955",
   "metadata": {
    "tags": []
   },
   "outputs": [
    {
     "name": "stdout",
     "output_type": "stream",
     "text": [
      "Count of unique dates: 1541\n"
     ]
    }
   ],
   "source": [
    "# Count unique values in the 'date_column'\n",
    "unique_count = df_train['date'].nunique()\n",
    "# Display the count of unique date values\n",
    "print(\"Count of unique dates:\", unique_count)\n"
   ]
  },
  {
   "cell_type": "markdown",
   "id": "d3aea8fb-0fb6-4882-9edd-f759ff8cae9d",
   "metadata": {},
   "source": [
    "we have 1541 unique days"
   ]
  },
  {
   "cell_type": "code",
   "execution_count": 8,
   "id": "f21cca87-f693-4dbc-be16-e430f8ef9945",
   "metadata": {
    "tags": []
   },
   "outputs": [
    {
     "data": {
      "text/plain": [
       "(1541, 2)"
      ]
     },
     "execution_count": 8,
     "metadata": {},
     "output_type": "execute_result"
    }
   ],
   "source": [
    "# Select only 'Date' and 'Revenue' columns, then group by 'Date' and calculate the total revenue\n",
    "grouped_df = df_train[['date', 'revenue']].groupby('date')['revenue'].sum().reset_index()\n",
    "\n",
    "grouped_df.shape"
   ]
  },
  {
   "cell_type": "code",
   "execution_count": 16,
   "id": "93c85800-9ace-4f7a-8551-9d6ac063ce9c",
   "metadata": {
    "tags": []
   },
   "outputs": [
    {
     "name": "stdout",
     "output_type": "stream",
     "text": [
      "ADF Statistic: -1.868248\n",
      "p-value: 0.347143\n",
      "Critical Values:\n",
      "\t1%: -3.435\n",
      "\t5%: -2.863\n",
      "\t10%: -2.568\n"
     ]
    }
   ],
   "source": [
    "#finding d\n",
    "\n",
    "from statsmodels.tsa.stattools import adfuller\n",
    "result = adfuller(grouped_df['revenue'])\n",
    "print('ADF Statistic: %f' % result[0])\n",
    "print('p-value: %f' % result[1])\n",
    "print('Critical Values:')\n",
    "for key, value in result[4].items():\n",
    "  print('\\t%s: %.3f' % (key, value))"
   ]
  },
  {
   "cell_type": "markdown",
   "id": "958fb768-bbda-448e-b5c9-8b887da431a9",
   "metadata": {},
   "source": [
    "If the P value is more than 0.05 the time series is not stationary."
   ]
  },
  {
   "cell_type": "code",
   "execution_count": 17,
   "id": "a017dcba-be5e-434b-9ae2-b1118fda572b",
   "metadata": {
    "tags": []
   },
   "outputs": [
    {
     "data": {
      "image/png": "[encoded data removed]",
      "text/plain": [
       "<Figure size 640x480 with 3 Axes>"
      ]
     },
     "metadata": {},
     "output_type": "display_data"
    }
   ],
   "source": [
    "# Original Series\n",
    "fig, (ax1, ax2, ax3) = plt.subplots(3)\n",
    "ax1.plot(grouped_df.revenue); ax1.set_title('Original Series'); ax1.axes.xaxis.set_visible(False)\n",
    "# 1st Differencing\n",
    "ax2.plot(grouped_df.revenue.diff()); ax2.set_title('1st Order Differencing'); ax2.axes.xaxis.set_visible(False)\n",
    "# 2nd Differencing\n",
    "ax3.plot(grouped_df.revenue.diff().diff()); ax3.set_title('2nd Order Differencing')\n",
    "plt.show()"
   ]
  },
  {
   "cell_type": "markdown",
   "id": "bd7025f5-6462-42a3-b159-04eb8e0e4b58",
   "metadata": {},
   "source": [
    "Here we can see how the time series has become stationary. \n",
    "so optimal D value is 1."
   ]
  },
  {
   "cell_type": "code",
   "execution_count": 15,
   "id": "6e337626-00d2-4b2a-a284-c8ba9d83151d",
   "metadata": {
    "tags": []
   },
   "outputs": [
    {
     "data": {
      "image/png": "[encoded data removed]",
      "text/plain": [
       "<Figure size 640x480 with 1 Axes>"
      ]
     },
     "metadata": {},
     "output_type": "display_data"
    }
   ],
   "source": [
    "#finding p\n",
    "from statsmodels.graphics.tsaplots import plot_pacf\n",
    "plot_pacf(grouped_df.revenue.diff().dropna());"
   ]
  },
  {
   "cell_type": "markdown",
   "id": "84759079-8fbc-41d8-bb55-e0874bd9dd69",
   "metadata": {},
   "source": [
    "Here we can see that the first lag is significantly out of the limit and the second one is not out of the significant limit but it is not that far so we can select the order of the p as 1. "
   ]
  },
  {
   "cell_type": "code",
   "execution_count": 14,
   "id": "e1ffe1d6-453d-4617-895b-988484da838e",
   "metadata": {
    "tags": []
   },
   "outputs": [
    {
     "data": {
      "image/png": "[encoded data removed]",
      "text/plain": [
       "<Figure size 640x480 with 1 Axes>"
      ]
     },
     "metadata": {},
     "output_type": "display_data"
    }
   ],
   "source": [
    "#finding q\n",
    "from statsmodels.graphics.tsaplots import plot_acf\n",
    "plot_acf(grouped_df.revenue.diff().dropna());"
   ]
  },
  {
   "cell_type": "markdown",
   "id": "3fcc6658-5be1-4cb8-8acf-805348eaa3d7",
   "metadata": {},
   "source": [
    "Here we can see that 4 of the lags are out of the significance limit so we can say that the optimal value of our q (MA) is 2. "
   ]
  },
  {
   "cell_type": "code",
   "execution_count": 20,
   "id": "181dd9a8-a0ac-4691-9463-7af29a74d0cc",
   "metadata": {
    "tags": []
   },
   "outputs": [
    {
     "name": "stdout",
     "output_type": "stream",
     "text": [
      "<class 'pandas.core.frame.DataFrame'>\n",
      "RangeIndex: 1541 entries, 0 to 1540\n",
      "Data columns (total 2 columns):\n",
      " #   Column   Non-Null Count  Dtype   \n",
      "---  ------   --------------  -----   \n",
      " 0   date     1541 non-null   category\n",
      " 1   revenue  1541 non-null   float32 \n",
      "dtypes: category(1), float32(1)\n",
      "memory usage: 53.5 KB\n"
     ]
    }
   ],
   "source": [
    "#check the info of grouped df\n",
    "grouped_df.info()"
   ]
  },
  {
   "cell_type": "code",
   "execution_count": 21,
   "id": "f2581aa5-4de1-412e-bb53-4faa6b1d46cb",
   "metadata": {
    "tags": []
   },
   "outputs": [],
   "source": [
    "# Convert the 'date' column to datetime\n",
    "grouped_df['date'] = pd.to_datetime(grouped_df['date'])"
   ]
  },
  {
   "cell_type": "markdown",
   "id": "699420a6-fb54-48db-8abd-4f42dd11513c",
   "metadata": {},
   "source": [
    "# Modeling"
   ]
  },
  {
   "cell_type": "code",
   "execution_count": 21,
   "id": "8f10f06a-02f3-40b3-81d1-b677df61a2e0",
   "metadata": {
    "tags": []
   },
   "outputs": [],
   "source": [
    "# Assuming grouped_df contains your time series data\n",
    "train_size = int(len(grouped_df) * 0.8)\n",
    "train_data = grouped_df[:train_size]\n",
    "test_data = grouped_df[train_size:]\n"
   ]
  },
  {
   "cell_type": "code",
   "execution_count": 151,
   "id": "8afb7732-a1f1-40fa-bdb7-f13b2d2219c0",
   "metadata": {
    "tags": []
   },
   "outputs": [
    {
     "data": {
      "text/plain": [
       "(1232, 2)"
      ]
     },
     "execution_count": 151,
     "metadata": {},
     "output_type": "execute_result"
    }
   ],
   "source": [
    "#check the shape\n",
    "train_data.shape"
   ]
  },
  {
   "cell_type": "code",
   "execution_count": 17,
   "id": "5c2e4486-c27e-462e-a4c2-4a916ffbc182",
   "metadata": {
    "tags": []
   },
   "outputs": [
    {
     "data": {
      "text/html": [
       "<div>\n",
       "<style scoped>\n",
       "    .dataframe tbody tr th:only-of-type {\n",
       "        vertical-align: middle;\n",
       "    }\n",
       "\n",
       "    .dataframe tbody tr th {\n",
       "        vertical-align: top;\n",
       "    }\n",
       "\n",
       "    .dataframe thead th {\n",
       "        text-align: right;\n",
       "    }\n",
       "</style>\n",
       "<table border=\"1\" class=\"dataframe\">\n",
       "  <thead>\n",
       "    <tr style=\"text-align: right;\">\n",
       "      <th></th>\n",
       "      <th>date</th>\n",
       "      <th>revenue</th>\n",
       "    </tr>\n",
       "  </thead>\n",
       "  <tbody>\n",
       "    <tr>\n",
       "      <th>1227</th>\n",
       "      <td>2014-06-09</td>\n",
       "      <td>109436.671875</td>\n",
       "    </tr>\n",
       "    <tr>\n",
       "      <th>1228</th>\n",
       "      <td>2014-06-10</td>\n",
       "      <td>95818.023438</td>\n",
       "    </tr>\n",
       "    <tr>\n",
       "      <th>1229</th>\n",
       "      <td>2014-06-11</td>\n",
       "      <td>97363.578125</td>\n",
       "    </tr>\n",
       "    <tr>\n",
       "      <th>1230</th>\n",
       "      <td>2014-06-12</td>\n",
       "      <td>97583.882812</td>\n",
       "    </tr>\n",
       "    <tr>\n",
       "      <th>1231</th>\n",
       "      <td>2014-06-13</td>\n",
       "      <td>107753.429688</td>\n",
       "    </tr>\n",
       "  </tbody>\n",
       "</table>\n",
       "</div>"
      ],
      "text/plain": [
       "            date        revenue\n",
       "1227  2014-06-09  109436.671875\n",
       "1228  2014-06-10   95818.023438\n",
       "1229  2014-06-11   97363.578125\n",
       "1230  2014-06-12   97583.882812\n",
       "1231  2014-06-13  107753.429688"
      ]
     },
     "execution_count": 17,
     "metadata": {},
     "output_type": "execute_result"
    }
   ],
   "source": [
    "#tail train\n",
    "train_data.tail()"
   ]
  },
  {
   "cell_type": "code",
   "execution_count": 152,
   "id": "c648e88a-83fc-4f8e-9e72-9555561c08d9",
   "metadata": {
    "tags": []
   },
   "outputs": [
    {
     "data": {
      "text/plain": [
       "(309, 2)"
      ]
     },
     "execution_count": 152,
     "metadata": {},
     "output_type": "execute_result"
    }
   ],
   "source": [
    "#check the shape\n",
    "test_data.shape"
   ]
  },
  {
   "cell_type": "code",
   "execution_count": 18,
   "id": "7bdaae6c-cbb3-4bdf-830a-3fb8be6d33ef",
   "metadata": {
    "tags": []
   },
   "outputs": [
    {
     "data": {
      "text/html": [
       "<div>\n",
       "<style scoped>\n",
       "    .dataframe tbody tr th:only-of-type {\n",
       "        vertical-align: middle;\n",
       "    }\n",
       "\n",
       "    .dataframe tbody tr th {\n",
       "        vertical-align: top;\n",
       "    }\n",
       "\n",
       "    .dataframe thead th {\n",
       "        text-align: right;\n",
       "    }\n",
       "</style>\n",
       "<table border=\"1\" class=\"dataframe\">\n",
       "  <thead>\n",
       "    <tr style=\"text-align: right;\">\n",
       "      <th></th>\n",
       "      <th>date</th>\n",
       "      <th>revenue</th>\n",
       "    </tr>\n",
       "  </thead>\n",
       "  <tbody>\n",
       "    <tr>\n",
       "      <th>1232</th>\n",
       "      <td>2014-06-14</td>\n",
       "      <td>126365.070312</td>\n",
       "    </tr>\n",
       "    <tr>\n",
       "      <th>1233</th>\n",
       "      <td>2014-06-15</td>\n",
       "      <td>239490.093750</td>\n",
       "    </tr>\n",
       "    <tr>\n",
       "      <th>1234</th>\n",
       "      <td>2014-06-16</td>\n",
       "      <td>101207.296875</td>\n",
       "    </tr>\n",
       "    <tr>\n",
       "      <th>1235</th>\n",
       "      <td>2014-06-17</td>\n",
       "      <td>93719.109375</td>\n",
       "    </tr>\n",
       "    <tr>\n",
       "      <th>1236</th>\n",
       "      <td>2014-06-18</td>\n",
       "      <td>89381.812500</td>\n",
       "    </tr>\n",
       "  </tbody>\n",
       "</table>\n",
       "</div>"
      ],
      "text/plain": [
       "            date        revenue\n",
       "1232  2014-06-14  126365.070312\n",
       "1233  2014-06-15  239490.093750\n",
       "1234  2014-06-16  101207.296875\n",
       "1235  2014-06-17   93719.109375\n",
       "1236  2014-06-18   89381.812500"
      ]
     },
     "execution_count": 18,
     "metadata": {},
     "output_type": "execute_result"
    }
   ],
   "source": [
    "#check the shape\n",
    "test_data.head()"
   ]
  },
  {
   "cell_type": "code",
   "execution_count": 125,
   "id": "51c89840-831d-481d-bbf0-0162f66c05ba",
   "metadata": {
    "tags": []
   },
   "outputs": [
    {
     "name": "stdout",
     "output_type": "stream",
     "text": [
      "                               SARIMAX Results                                \n",
      "==============================================================================\n",
      "Dep. Variable:                revenue   No. Observations:                 1232\n",
      "Model:                 ARIMA(1, 1, 4)   Log Likelihood              -13492.076\n",
      "Date:                Sat, 07 Oct 2023   AIC                          26996.152\n",
      "Time:                        16:35:16   BIC                          27026.846\n",
      "Sample:                             0   HQIC                         27007.700\n",
      "                               - 1232                                         \n",
      "Covariance Type:                  opg                                         \n",
      "==============================================================================\n",
      "                 coef    std err          z      P>|z|      [0.025      0.975]\n",
      "------------------------------------------------------------------------------\n",
      "ar.L1          0.4143      0.106      3.923      0.000       0.207       0.621\n",
      "ma.L1         -0.8524      0.108     -7.862      0.000      -1.065      -0.640\n",
      "ma.L2         -0.3495      0.058     -6.007      0.000      -0.464      -0.235\n",
      "ma.L3         -0.0480      0.064     -0.747      0.455      -0.174       0.078\n",
      "ma.L4          0.2732      0.034      8.011      0.000       0.206       0.340\n",
      "sigma2      2.262e+08   1.55e-09   1.46e+17      0.000    2.26e+08    2.26e+08\n",
      "===================================================================================\n",
      "Ljung-Box (L1) (Q):                   0.20   Jarque-Bera (JB):             10228.59\n",
      "Prob(Q):                              0.65   Prob(JB):                         0.00\n",
      "Heteroskedasticity (H):               2.15   Skew:                             0.57\n",
      "Prob(H) (two-sided):                  0.00   Kurtosis:                        17.08\n",
      "===================================================================================\n",
      "\n",
      "Warnings:\n",
      "[1] Covariance matrix calculated using the outer product of gradients (complex-step).\n",
      "[2] Covariance matrix is singular or near-singular, with condition number 7.63e+32. Standard errors may be unstable.\n"
     ]
    }
   ],
   "source": [
    "from statsmodels.tsa.arima.model import ARIMA\n",
    "\n",
    "# Define your ARIMA order (p, d, q)\n",
    "p = 1  # Autoregressive order\n",
    "d = 1  # Differencing order\n",
    "q = 4  # Moving average order\n",
    "\n",
    "# Create and fit the ARIMA model\n",
    "model = ARIMA(train_data['revenue'], order=(p, d, q))\n",
    "model_fit = model.fit()\n",
    "\n",
    "# Print model summary\n",
    "print(model_fit.summary())"
   ]
  },
  {
   "cell_type": "code",
   "execution_count": 126,
   "id": "b228647c-8b1b-4cdf-a291-756efb313004",
   "metadata": {
    "tags": []
   },
   "outputs": [
    {
     "name": "stdout",
     "output_type": "stream",
     "text": [
      "RMSE: 20511.132051649638\n"
     ]
    }
   ],
   "source": [
    "# Make predictions on the test data\n",
    "forecast = model_fit.forecast(steps=len(test_data))\n",
    "\n",
    "# Calculate the RMSE\n",
    "rmse = np.sqrt(mean_squared_error(test_data['revenue'], forecast))\n",
    "print(f'RMSE: {rmse}')"
   ]
  },
  {
   "cell_type": "code",
   "execution_count": 128,
   "id": "e2a0cbcc-2ced-49a6-861a-c81711db5a1e",
   "metadata": {
    "tags": []
   },
   "outputs": [
    {
     "name": "stdout",
     "output_type": "stream",
     "text": [
      "           Date  Forecasted Revenue\n",
      "1232 2014-01-29       107324.627620\n",
      "1233 2014-01-30       105178.665659\n",
      "1234 2014-01-31       102787.163709\n",
      "1235 2014-02-01       103627.405492\n",
      "1236 2014-02-02       103975.501608\n",
      "1237 2014-02-03       104119.711178\n",
      "1238 2014-02-04       104179.454447\n"
     ]
    }
   ],
   "source": [
    "# Set the start date for forecasting\n",
    "start_date = '2014-01-29'  \n",
    "\n",
    "# Define the forecast period (number of days to forecast)\n",
    "forecast_period = 7\n",
    "\n",
    "# Use the ARIMA model results to get the predicted mean values for the next 7 days\n",
    "forecast_values = model_fit.get_forecast(steps=forecast_period).predicted_mean\n",
    "\n",
    "# Create a date range for the forecast starting from the specified start_date\n",
    "forecast_dates = pd.date_range(start=start_date, periods=forecast_period)\n",
    "\n",
    "# Create a DataFrame to store the forecasted values along with the corresponding dates\n",
    "forecast_df = pd.DataFrame({'Date': forecast_dates, 'Forecasted Revenue': forecast_values})\n",
    "\n",
    "# Print the forecasted values and dates\n",
    "print(forecast_df)\n"
   ]
  },
  {
   "cell_type": "code",
   "execution_count": 158,
   "id": "04927e58-948f-4b2d-9aae-14c37ac6c512",
   "metadata": {
    "tags": []
   },
   "outputs": [
    {
     "data": {
      "text/plain": [
       "['../models/arima_model.joblib']"
      ]
     },
     "execution_count": 158,
     "metadata": {},
     "output_type": "execute_result"
    }
   ],
   "source": [
    "#save the model\n",
    "import joblib\n",
    "joblib.dump(model_fit, '../models/arima_model.joblib')"
   ]
  },
  {
   "cell_type": "markdown",
   "id": "1ddf5622-ae2f-4b3d-a55e-ad691b1c3487",
   "metadata": {},
   "source": [
    "# SARIMA"
   ]
  },
  {
   "cell_type": "markdown",
   "id": "61089323-fc73-4d21-8e88-688f3bd5881a",
   "metadata": {
    "tags": []
   },
   "source": [
    "it appears that the model is way to simple that couldnt get complexity of data"
   ]
  },
  {
   "cell_type": "code",
   "execution_count": 76,
   "id": "e9ee7ff4-9c49-4fc0-bd80-62d8b396174c",
   "metadata": {
    "scrolled": true,
    "tags": []
   },
   "outputs": [
    {
     "data": {
      "image/png": "[encoded data removed]",
      "text/plain": [
       "<IPython.core.display.Image object>"
      ]
     },
     "execution_count": 76,
     "metadata": {},
     "output_type": "execute_result"
    }
   ],
   "source": [
    "import pandas as pd\n",
    "import matplotlib.pyplot as plt\n",
    "import plotly.express as px\n",
    "from IPython.display import Image\n",
    "\n",
    "# Convert the 'date' column to a datetime type\n",
    "df_train['date'] = pd.to_datetime(df_train['date'])\n",
    "\n",
    "\n",
    "\n",
    "# Group by 'year_month' and calculate the sum of 'revenue' for each month\n",
    "grouped_data = df_train.groupby('date')['revenue'].sum().reset_index()\n",
    "\n",
    "# Create a line chart using Plotly Express\n",
    "fig = px.line(grouped_data, x='date', y='revenue', title='Total Revenue Per Year-Month')\n",
    "\n",
    "# Customize hover text and template\n",
    "fig.update_traces(text=grouped_data['date'],\n",
    "                  hovertemplate='Year-Month: %{x}<br>Total Revenue: %{y}')\n",
    "\n",
    "# Increase the size of the plot\n",
    "fig.update_layout(width=800, height=400)\n",
    "\n",
    "# Save the figure as an image and display it\n",
    "fig_bytes = fig.to_image(format=\"png\")\n",
    "Image(fig_bytes)\n"
   ]
  },
  {
   "cell_type": "markdown",
   "id": "805dcae2-5480-4732-b930-0dc261a257be",
   "metadata": {},
   "source": [
    "sesonality seems equal to 1 year\n",
    "it seems that every Jan there is a decrease in revenue."
   ]
  },
  {
   "cell_type": "code",
   "execution_count": 150,
   "id": "a9177a00-3f76-4e6d-9f93-5a6b4a487684",
   "metadata": {
    "tags": []
   },
   "outputs": [
    {
     "name": "stderr",
     "output_type": "stream",
     "text": [
      " This problem is unconstrained.\n"
     ]
    },
    {
     "name": "stdout",
     "output_type": "stream",
     "text": [
      "RUNNING THE L-BFGS-B CODE\n",
      "\n",
      "           * * *\n",
      "\n",
      "Machine precision = 2.220D-16\n",
      " N =           13     M =           10\n",
      "\n",
      "At X0         0 variables are exactly at the bounds\n",
      "\n",
      "At iterate    0    f=  1.11616D+01    |proj g|=  1.06382D-01\n",
      "\n",
      "At iterate    5    f=  1.11343D+01    |proj g|=  1.46847D-02\n",
      "\n",
      "At iterate   10    f=  1.11237D+01    |proj g|=  1.19555D-01\n",
      "\n",
      "At iterate   15    f=  1.11169D+01    |proj g|=  9.80479D-02\n",
      "\n",
      "At iterate   20    f=  1.11124D+01    |proj g|=  1.63403D-01\n",
      "\n",
      "At iterate   25    f=  1.11112D+01    |proj g|=  8.16720D-02\n",
      "\n",
      "At iterate   30    f=  1.11064D+01    |proj g|=  2.14217D-02\n",
      "\n",
      "At iterate   35    f=  1.11057D+01    |proj g|=  6.08468D-03\n",
      "\n",
      "At iterate   40    f=  1.11054D+01    |proj g|=  4.33062D-02\n",
      "\n",
      "At iterate   45    f=  1.11052D+01    |proj g|=  3.54300D-03\n"
     ]
    },
    {
     "name": "stderr",
     "output_type": "stream",
     "text": [
      "/Users/yasamanmohammadi/Library/Caches/pypoetry/virtualenvs/machine-learning-as-a-service-07lCQGgH-py3.10/lib/python3.10/site-packages/statsmodels/base/model.py:607: ConvergenceWarning: Maximum Likelihood optimization failed to converge. Check mle_retvals\n",
      "  warnings.warn(\"Maximum Likelihood optimization failed to \"\n"
     ]
    },
    {
     "name": "stdout",
     "output_type": "stream",
     "text": [
      "\n",
      "At iterate   50    f=  1.11051D+01    |proj g|=  4.90044D-03\n",
      "\n",
      "           * * *\n",
      "\n",
      "Tit   = total number of iterations\n",
      "Tnf   = total number of function evaluations\n",
      "Tnint = total number of segments explored during Cauchy searches\n",
      "Skip  = number of BFGS updates skipped\n",
      "Nact  = number of active bounds at final generalized Cauchy point\n",
      "Projg = norm of the final projected gradient\n",
      "F     = final function value\n",
      "\n",
      "           * * *\n",
      "\n",
      "   N    Tit     Tnf  Tnint  Skip  Nact     Projg        F\n",
      "   13     50     63      1     0     0   4.900D-03   1.111D+01\n",
      "  F =   11.105064143816884     \n",
      "\n",
      "STOP: TOTAL NO. of ITERATIONS REACHED LIMIT                 \n",
      "                                         SARIMAX Results                                          \n",
      "==================================================================================================\n",
      "Dep. Variable:                                    revenue   No. Observations:                 1541\n",
      "Model:             SARIMAX(1, 1, 4)x(4, 1, [1, 2, 3], 12)   Log Likelihood              -17112.904\n",
      "Date:                                    Sat, 07 Oct 2023   AIC                          34251.808\n",
      "Time:                                            18:40:29   BIC                          34321.120\n",
      "Sample:                                                 0   HQIC                         34277.605\n",
      "                                                   - 1541                                         \n",
      "Covariance Type:                                      opg                                         \n",
      "==============================================================================\n",
      "                 coef    std err          z      P>|z|      [0.025      0.975]\n",
      "------------------------------------------------------------------------------\n",
      "ar.L1          0.3248      2.599      0.125      0.901      -4.770       5.420\n",
      "ma.L1         -0.9919      2.597     -0.382      0.703      -6.083       4.099\n",
      "ma.L2          0.0336      1.725      0.019      0.984      -3.347       3.414\n",
      "ma.L3          0.1560      0.489      0.319      0.750      -0.803       1.115\n",
      "ma.L4         -0.0661      0.160     -0.412      0.680      -0.380       0.248\n",
      "ar.S.L12      -0.6198      0.178     -3.472      0.001      -0.970      -0.270\n",
      "ar.S.L24      -0.9879      0.238     -4.150      0.000      -1.455      -0.521\n",
      "ar.S.L36      -0.1404      0.208     -0.674      0.500      -0.549       0.268\n",
      "ar.S.L48       0.0719      0.186      0.388      0.698      -0.292       0.436\n",
      "ma.S.L12      -0.5238      0.149     -3.526      0.000      -0.815      -0.233\n",
      "ma.S.L24       0.4659      0.159      2.931      0.003       0.154       0.777\n",
      "ma.S.L36      -0.8341      0.108     -7.701      0.000      -1.046      -0.622\n",
      "sigma2      6.623e+08   1.64e-07   4.03e+15      0.000    6.62e+08    6.62e+08\n",
      "===================================================================================\n",
      "Ljung-Box (L1) (Q):                   0.13   Jarque-Bera (JB):             38521.53\n",
      "Prob(Q):                              0.71   Prob(JB):                         0.00\n",
      "Heteroskedasticity (H):               1.82   Skew:                             1.02\n",
      "Prob(H) (two-sided):                  0.00   Kurtosis:                        27.51\n",
      "===================================================================================\n",
      "\n",
      "Warnings:\n",
      "[1] Covariance matrix calculated using the outer product of gradients (complex-step).\n",
      "[2] Covariance matrix is singular or near-singular, with condition number 1.94e+31. Standard errors may be unstable.\n"
     ]
    }
   ],
   "source": [
    "import pandas as pd\n",
    "import numpy as np\n",
    "from statsmodels.tsa.statespace.sarimax import SARIMAX\n",
    "import matplotlib.pyplot as plt\n",
    "\n",
    "# Assuming you have already prepared your data and made it stationary\n",
    "\n",
    "p = 1  # AR order\n",
    "d = 1  # Differencing order\n",
    "q = 4  # MA order\n",
    "P = 4  # Seasonal AR order\n",
    "D = 1  # Seasonal differencing order\n",
    "Q = 3  # Seasonal MA order\n",
    "s = 12  # Seasonal period (1 year)\n",
    "\n",
    "# Fit SARIMA model\n",
    "model = SARIMAX(grouped_df['revenue'], order=(p, d, q), seasonal_order=(P, D, Q, s))\n",
    "results = model.fit()\n",
    "\n",
    "# Print summary of the model\n",
    "print(results.summary())\n"
   ]
  },
  {
   "cell_type": "code",
   "execution_count": 151,
   "id": "28503448-bf9f-4fbc-8316-8b75fccc466a",
   "metadata": {
    "tags": []
   },
   "outputs": [
    {
     "name": "stdout",
     "output_type": "stream",
     "text": [
      "RMSE: 22406.99949082417\n"
     ]
    }
   ],
   "source": [
    "# Make predictions on the test data\n",
    "forecast = results.forecast(steps=len(test_data))\n",
    "\n",
    "# Calculate the RMSE\n",
    "rmse = np.sqrt(mean_squared_error(test_data['revenue'], forecast))\n",
    "print(f'RMSE: {rmse}')\n",
    "\n",
    "#Q:3 22406.99949082417"
   ]
  },
  {
   "cell_type": "code",
   "execution_count": 130,
   "id": "ef2a7e4f-bef4-4d75-8fab-876e1e2c3fbe",
   "metadata": {
    "tags": []
   },
   "outputs": [],
   "source": [
    "forecast_period = 7\n",
    "forecast_values = results.forecast(steps=forecast_period)\n"
   ]
  },
  {
   "cell_type": "code",
   "execution_count": 132,
   "id": "f4dce9ca-931c-4da5-8beb-1347b7eafb23",
   "metadata": {
    "tags": []
   },
   "outputs": [
    {
     "name": "stdout",
     "output_type": "stream",
     "text": [
      "           Date  Forecasted Revenue\n",
      "1541 2011-01-29       132434.734066\n",
      "1542 2011-01-30       125655.613943\n",
      "1543 2011-01-31       108614.614784\n",
      "1544 2011-02-01       107868.804183\n",
      "1545 2011-02-02       112524.247841\n",
      "1546 2011-02-03       103616.067990\n",
      "1547 2011-02-04       118394.615889\n"
     ]
    }
   ],
   "source": [
    "# see if its work\n",
    "start_date = '2011-01-29'  \n",
    "\n",
    "# Forecast revenue for the next 7 days\n",
    "forecast_period = 7\n",
    "forecast_values = results.get_forecast(steps=forecast_period).predicted_mean\n",
    "\n",
    "# Create a date range for the forecast\n",
    "forecast_dates = pd.date_range(start=start_date, periods=forecast_period)\n",
    "\n",
    "# Print the forecasted values and dates\n",
    "forecast_df = pd.DataFrame({'Date': forecast_dates, 'Forecasted Revenue': forecast_values})\n",
    "print(forecast_df)"
   ]
  },
  {
   "cell_type": "markdown",
   "id": "b8669555-58d8-43eb-b9ac-3d621c7970a7",
   "metadata": {},
   "source": [
    "RMSE is greater than ARIMA"
   ]
  },
  {
   "cell_type": "code",
   "execution_count": 155,
   "id": "771fd86a-d849-496d-ba3a-8991424af232",
   "metadata": {
    "tags": []
   },
   "outputs": [
    {
     "data": {
      "text/plain": [
       "['../models/sarima_model.joblib']"
      ]
     },
     "execution_count": 155,
     "metadata": {},
     "output_type": "execute_result"
    }
   ],
   "source": [
    "#save the model\n",
    "import joblib\n",
    "joblib.dump(results, '../models/sarima_model.joblib')"
   ]
  }
 ],
 "metadata": {
  "kernelspec": {
   "display_name": "Python 3 (ipykernel)",
   "language": "python",
   "name": "python3"
  },
  "language_info": {
   "codemirror_mode": {
    "name": "ipython",
    "version": 3
   },
   "file_extension": ".py",
   "mimetype": "text/x-python",
   "name": "python",
   "nbconvert_exporter": "python",
   "pygments_lexer": "ipython3",
   "version": "3.10.9"
  }
 },
 "nbformat": 4,
 "nbformat_minor": 5
}
